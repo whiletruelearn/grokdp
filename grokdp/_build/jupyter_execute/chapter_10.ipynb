{
 "cells": [
  {
   "cell_type": "markdown",
   "id": "aeb5fe8b",
   "metadata": {},
   "source": [
    "(chapter_10)=\n",
    "\n",
    "# Chapter 10: Optimization Techniques in Dynamic Programming\n",
    "\n",
    "While Dynamic Programming (DP) is a powerful technique for solving complex problems, it can sometimes lead to solutions that are inefficient in terms of time or space complexity. In this chapter, we'll explore several optimization techniques that can make our DP solutions more efficient.\n",
    "\n",
    "## 10.1 Space Optimization\n",
    "\n",
    "One common issue with DP solutions is that they often use a lot of memory. However, in many cases, we can optimize the space usage without affecting the time complexity.\n",
    "\n",
    "### Example: Fibonacci Sequence\n",
    "\n",
    "Let's start with a simple example: calculating the nth Fibonacci number.\n",
    "\n",
    "#### Naive DP Solution:"
   ]
  },
  {
   "cell_type": "code",
   "execution_count": 1,
   "id": "d3833539",
   "metadata": {},
   "outputs": [
    {
     "name": "stdout",
     "output_type": "stream",
     "text": [
      "55\n"
     ]
    }
   ],
   "source": [
    "def fibonacci(n):\n",
    "    if n <= 1:\n",
    "        return n\n",
    "    dp = [0] * (n + 1)\n",
    "    dp[1] = 1\n",
    "    for i in range(2, n + 1):\n",
    "        dp[i] = dp[i-1] + dp[i-2]\n",
    "    return dp[n]\n",
    "\n",
    "print(fibonacci(10))  # Output: 55"
   ]
  },
  {
   "cell_type": "markdown",
   "id": "58e85783",
   "metadata": {},
   "source": [
    "This solution uses O(n) space.\n",
    "\n",
    "#### Space-Optimized Solution:"
   ]
  },
  {
   "cell_type": "code",
   "execution_count": 2,
   "id": "d63a02b1",
   "metadata": {},
   "outputs": [
    {
     "name": "stdout",
     "output_type": "stream",
     "text": [
      "55\n"
     ]
    }
   ],
   "source": [
    "def fibonacci_optimized(n):\n",
    "    if n <= 1:\n",
    "        return n\n",
    "    a, b = 0, 1\n",
    "    for _ in range(2, n + 1):\n",
    "        a, b = b, a + b\n",
    "    return b\n",
    "\n",
    "print(fibonacci_optimized(10))  # Output: 55"
   ]
  },
  {
   "cell_type": "markdown",
   "id": "51943691",
   "metadata": {},
   "source": [
    "This optimized solution uses only O(1) space.\n",
    "\n",
    "### Technique: Rolling Array\n",
    "\n",
    "For problems where the current state depends only on a fixed number of previous states, we can use a \"rolling array\" to save space.\n",
    "\n",
    "Example: Consider the climbing stairs problem where you can take 1, 2, or 3 steps at a time."
   ]
  },
  {
   "cell_type": "code",
   "execution_count": 3,
   "id": "bff6f539",
   "metadata": {},
   "outputs": [
    {
     "name": "stdout",
     "output_type": "stream",
     "text": [
      "13\n"
     ]
    }
   ],
   "source": [
    "def climb_stairs(n):\n",
    "    if n <= 2:\n",
    "        return n\n",
    "    dp = [0, 1, 2, 4]  # Base cases for n = 0, 1, 2, 3\n",
    "    for i in range(4, n + 1):\n",
    "        dp[i % 4] = dp[(i-1) % 4] + dp[(i-2) % 4] + dp[(i-3) % 4]\n",
    "    return dp[n % 4]\n",
    "\n",
    "print(climb_stairs(5))  # Output: 13"
   ]
  },
  {
   "cell_type": "markdown",
   "id": "7b35067e",
   "metadata": {},
   "source": [
    "This solution uses only O(1) space instead of O(n).\n",
    "\n",
    "## 10.2 Using Less State\n",
    "\n",
    "Sometimes, we can reduce the dimensions of our DP table by clever problem analysis.\n",
    "\n",
    "### Example: Knapsack Problem\n",
    "\n",
    "Consider the 0/1 Knapsack problem where we need to maximize the value of items we can carry in a knapsack of capacity W.\n",
    "\n",
    "#### Standard 2D DP Solution:"
   ]
  },
  {
   "cell_type": "code",
   "execution_count": 4,
   "id": "4d43e16b",
   "metadata": {},
   "outputs": [
    {
     "name": "stdout",
     "output_type": "stream",
     "text": [
      "220\n"
     ]
    }
   ],
   "source": [
    "def knapsack(values, weights, W):\n",
    "    n = len(values)\n",
    "    dp = [[0 for _ in range(W + 1)] for _ in range(n + 1)]\n",
    "    \n",
    "    for i in range(1, n + 1):\n",
    "        for w in range(1, W + 1):\n",
    "            if weights[i-1] <= w:\n",
    "                dp[i][w] = max(values[i-1] + dp[i-1][w-weights[i-1]], dp[i-1][w])\n",
    "            else:\n",
    "                dp[i][w] = dp[i-1][w]\n",
    "    \n",
    "    return dp[n][W]\n",
    "\n",
    "values = [60, 100, 120]\n",
    "weights = [10, 20, 30]\n",
    "W = 50\n",
    "print(knapsack(values, weights, W))  # Output: 220"
   ]
  },
  {
   "cell_type": "markdown",
   "id": "d729f202",
   "metadata": {},
   "source": [
    "This solution uses O(nW) space.\n",
    "\n",
    "#### 1D DP Solution:"
   ]
  },
  {
   "cell_type": "code",
   "execution_count": 5,
   "id": "ae18dc11",
   "metadata": {},
   "outputs": [
    {
     "name": "stdout",
     "output_type": "stream",
     "text": [
      "220\n"
     ]
    }
   ],
   "source": [
    "def knapsack_1d(values, weights, W):\n",
    "    n = len(values)\n",
    "    dp = [0] * (W + 1)\n",
    "    \n",
    "    for i in range(n):\n",
    "        for w in range(W, weights[i] - 1, -1):\n",
    "            dp[w] = max(dp[w], values[i] + dp[w - weights[i]])\n",
    "    \n",
    "    return dp[W]\n",
    "\n",
    "values = [60, 100, 120]\n",
    "weights = [10, 20, 30]\n",
    "W = 50\n",
    "print(knapsack_1d(values, weights, W))  # Output: 220"
   ]
  },
  {
   "cell_type": "markdown",
   "id": "b0cea3e4",
   "metadata": {},
   "source": [
    "This optimized solution uses only O(W) space.\n",
    "\n",
    "## 10.3 Combining Top-down and Bottom-up Approaches\n",
    "\n",
    "Sometimes, a hybrid approach combining top-down (memoization) and bottom-up (tabulation) can be more efficient.\n",
    "\n",
    "### Example: Matrix Chain Multiplication\n",
    "\n",
    "Let's optimize the Matrix Chain Multiplication problem from the previous chapter."
   ]
  },
  {
   "cell_type": "code",
   "execution_count": 6,
   "id": "69a46a33",
   "metadata": {},
   "outputs": [
    {
     "name": "stdout",
     "output_type": "stream",
     "text": [
      "Minimum number of multiplications: 4500\n"
     ]
    }
   ],
   "source": [
    "def matrix_chain_multiplication(dimensions):\n",
    "    n = len(dimensions) - 1\n",
    "    memo = {}\n",
    "    \n",
    "    def dp(i, j):\n",
    "        if i == j:\n",
    "            return 0\n",
    "        if (i, j) in memo:\n",
    "            return memo[(i, j)]\n",
    "        \n",
    "        memo[(i, j)] = min(dp(i, k) + dp(k+1, j) + dimensions[i-1]*dimensions[k]*dimensions[j]\n",
    "                           for k in range(i, j))\n",
    "        return memo[(i, j)]\n",
    "    \n",
    "    return dp(1, n)\n",
    "\n",
    "dimensions = [10, 30, 5, 60]\n",
    "print(f\"Minimum number of multiplications: {matrix_chain_multiplication(dimensions)}\")\n",
    "# Output: Minimum number of multiplications: 4500"
   ]
  },
  {
   "cell_type": "markdown",
   "id": "a7fad905",
   "metadata": {},
   "source": [
    "This solution combines the top-down approach (recursive calls) with memoization, which can be more intuitive and sometimes more efficient than the purely bottom-up approach.\n",
    "\n",
    "## Conclusion\n",
    "\n",
    "Optimizing Dynamic Programming solutions often involves trade-offs between time and space complexity. The techniques we've covered - space optimization, using less state, and combining top-down and bottom-up approaches - can significantly improve the efficiency of our algorithms.\n",
    "\n",
    "Remember, the best optimization technique depends on the specific problem and constraints. Always analyze your problem carefully to determine which optimization methods are most appropriate.\n",
    "\n",
    "In the next chapter, we'll explore real-world applications of Dynamic Programming, seeing how these techniques are used in various domains."
   ]
  }
 ],
 "metadata": {
  "jupytext": {
   "text_representation": {
    "extension": ".md",
    "format_name": "myst"
   }
  },
  "kernelspec": {
   "display_name": "Python 3",
   "language": "python",
   "name": "python3"
  },
  "language_info": {
   "codemirror_mode": {
    "name": "ipython",
    "version": 3
   },
   "file_extension": ".py",
   "mimetype": "text/x-python",
   "name": "python",
   "nbconvert_exporter": "python",
   "pygments_lexer": "ipython3",
   "version": "3.9.2"
  },
  "source_map": [
   10,
   28,
   39,
   45,
   55,
   65,
   75,
   89,
   107,
   113,
   128,
   140,
   160
  ]
 },
 "nbformat": 4,
 "nbformat_minor": 5
}