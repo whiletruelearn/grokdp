{
 "cells": [
  {
   "cell_type": "markdown",
   "id": "33d7a132",
   "metadata": {},
   "source": [
    "(chapter_7)=\n",
    "\n",
    "# Dynamic Programming in Strings\n",
    "\n",
    "Dynamic Programming (DP) is a powerful technique that can be applied to various string problems. In this chapter, we'll explore two classic problems: the Longest Palindromic Subsequence and Regular Expression Matching.\n",
    "\n",
    "## 7.1 Longest Palindromic Subsequence\n",
    "\n",
    "### Problem Statement\n",
    "\n",
    "Given a string, find the length of its longest palindromic subsequence. A palindromic subsequence is a subsequence that reads the same backwards as forwards.\n",
    "\n",
    "For example, given the string \"BBABCBCAB\", the longest palindromic subsequence is \"BABCBAB\", which has a length of 7.\n",
    "\n",
    "### Approach\n",
    "\n",
    "We can solve this problem using a 2D DP table. Let's define $dp[i][j]$ as the length of the longest palindromic subsequence in the substring $s[i:j+1]$.\n",
    "\n",
    "The recurrence relation is:\n",
    "\n",
    "1. If $s[i] == s[j]$ and $i != j$: $dp[i][j] = dp[i+1][j-1] + 2$\n",
    "2. If $s[i] == s[j]$ and $i == j$: $dp[i][j] = 1$\n",
    "3. If $s[i] != s[j]$: $dp[i][j] = max(dp[i+1][j], dp[i][j-1])$\n",
    "\n",
    "### Implementation"
   ]
  },
  {
   "cell_type": "code",
   "execution_count": 1,
   "id": "43769857",
   "metadata": {},
   "outputs": [
    {
     "name": "stdout",
     "output_type": "stream",
     "text": [
      "Length of longest palindromic subsequence: 7\n"
     ]
    }
   ],
   "source": [
    "def longest_palindromic_subsequence(s):\n",
    "    n = len(s)\n",
    "    dp = [[0] * n for _ in range(n)]\n",
    "    \n",
    "    # Base case: palindromes of length 1\n",
    "    for i in range(n):\n",
    "        dp[i][i] = 1\n",
    "    \n",
    "    # Fill the dp table\n",
    "    for length in range(2, n + 1):\n",
    "        for i in range(n - length + 1):\n",
    "            j = i + length - 1\n",
    "            if s[i] == s[j] and length == 2:\n",
    "                dp[i][j] = 2\n",
    "            elif s[i] == s[j]:\n",
    "                dp[i][j] = dp[i+1][j-1] + 2\n",
    "            else:\n",
    "                dp[i][j] = max(dp[i+1][j], dp[i][j-1])\n",
    "    \n",
    "    return dp[0][n-1]\n",
    "\n",
    "# Test the function\n",
    "s = \"BBABCBCAB\"\n",
    "print(f\"Length of longest palindromic subsequence: {longest_palindromic_subsequence(s)}\")"
   ]
  },
  {
   "cell_type": "markdown",
   "id": "6e466773",
   "metadata": {},
   "source": [
    "### Complexity Analysis\n",
    "\n",
    "- Time Complexity: $O(n^2)$, where $n$ is the length of the string.\n",
    "- Space Complexity: $O(n^2)$ to store the DP table.\n",
    "\n",
    "### Visualization\n",
    "\n",
    "Here's a text-based visualization of how the DP table would be filled for the string \"BBAB\":\n",
    "\n",
    "```\n",
    "    B   B   A   B\n",
    "B   1   2   2   3\n",
    "B       1   1   3\n",
    "A           1   1\n",
    "B               1\n",
    "```\n",
    "\n",
    "## 7.2 Regular Expression Matching\n",
    "\n",
    "### Problem Statement\n",
    "\n",
    "Implement regular expression matching with support for '.' and '*' where:\n",
    "- '.' Matches any single character.\n",
    "- '*' Matches zero or more of the preceding element.\n",
    "\n",
    "The matching should cover the entire input string (not partial).\n",
    "\n",
    "### Approach\n",
    "\n",
    "We can solve this using a 2D DP table. Let $dp[i][j]$ be true if the first $i$ characters in the string match the first $j$ characters of the pattern.\n",
    "\n",
    "The recurrence relation is:\n",
    "\n",
    "1. If $p[j-1] == s[i-1]$ or $p[j-1] == '.'$: $dp[i][j] = dp[i-1][j-1]$\n",
    "2. If $p[j-1] == '*'$:\n",
    "   - $dp[i][j] = dp[i][j-2]$ (zero occurrence)\n",
    "   - If $p[j-2] == s[i-1]$ or $p[j-2] == '.'$: $dp[i][j] |= dp[i-1][j]$ (one or more occurrences)\n",
    "\n",
    "### Implementation"
   ]
  },
  {
   "cell_type": "code",
   "execution_count": 2,
   "id": "4a29c81b",
   "metadata": {},
   "outputs": [
    {
     "name": "stdout",
     "output_type": "stream",
     "text": [
      "Does 'a*' match 'aa'? True\n"
     ]
    }
   ],
   "source": [
    "def is_match(s: str, p: str) -> bool:\n",
    "    m, n = len(s), len(p)\n",
    "    dp = [[False] * (n + 1) for _ in range(m + 1)]\n",
    "    \n",
    "    # Empty pattern matches empty string\n",
    "    dp[0][0] = True\n",
    "    \n",
    "    # Patterns with '*' can match empty string\n",
    "    for j in range(1, n + 1):\n",
    "        if p[j-1] == '*':\n",
    "            dp[0][j] = dp[0][j-2]\n",
    "    \n",
    "    # Fill the dp table\n",
    "    for i in range(1, m + 1):\n",
    "        for j in range(1, n + 1):\n",
    "            if p[j-1] == s[i-1] or p[j-1] == '.':\n",
    "                dp[i][j] = dp[i-1][j-1]\n",
    "            elif p[j-1] == '*':\n",
    "                dp[i][j] = dp[i][j-2]\n",
    "                if p[j-2] == s[i-1] or p[j-2] == '.':\n",
    "                    dp[i][j] |= dp[i-1][j]\n",
    "    \n",
    "    return dp[m][n]\n",
    "\n",
    "# Test the function\n",
    "s = \"aa\"\n",
    "p = \"a*\"\n",
    "print(f\"Does '{p}' match '{s}'? {is_match(s, p)}\")"
   ]
  },
  {
   "cell_type": "markdown",
   "id": "1fa04d38",
   "metadata": {},
   "source": [
    "### Complexity Analysis\n",
    "\n",
    "- Time Complexity: $O(mn)$, where $m$ and $n$ are the lengths of the string and pattern respectively.\n",
    "- Space Complexity: $O(mn)$ to store the DP table.\n",
    "\n",
    "### Visualization\n",
    "\n",
    "Here's a text-based visualization of how the DP table would be filled for the string \"aa\" and pattern \"a*\":\n",
    "\n",
    "```\n",
    "    ε   a   *\n",
    "ε   T   F   T\n",
    "a   F   T   T\n",
    "a   F   F   T\n",
    "```\n",
    "\n",
    "In this table, 'T' represents True (match) and 'F' represents False (no match).\n",
    "\n",
    "## Conclusion\n",
    "\n",
    "Dynamic Programming in strings often involves 2D DP tables and can solve complex pattern matching and subsequence problems efficiently. The key is to define the right recurrence relation and build the DP table step by step.\n",
    "\n",
    "In the next chapter, we'll explore Dynamic Programming in Arrays and Matrices, which will build upon these concepts and introduce new techniques."
   ]
  }
 ],
 "metadata": {
  "jupytext": {
   "text_representation": {
    "extension": ".md",
    "format_name": "myst"
   }
  },
  "kernelspec": {
   "display_name": "Python 3",
   "language": "python",
   "name": "python3"
  },
  "language_info": {
   "codemirror_mode": {
    "name": "ipython",
    "version": 3
   },
   "file_extension": ".py",
   "mimetype": "text/x-python",
   "name": "python",
   "nbconvert_exporter": "python",
   "pygments_lexer": "ipython3",
   "version": "3.9.2"
  },
  "source_map": [
   10,
   38,
   63,
   105,
   134
  ]
 },
 "nbformat": 4,
 "nbformat_minor": 5
}