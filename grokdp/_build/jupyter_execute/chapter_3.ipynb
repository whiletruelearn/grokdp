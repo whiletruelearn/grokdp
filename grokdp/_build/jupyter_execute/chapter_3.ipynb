{
 "cells": [
  {
   "cell_type": "markdown",
   "id": "ff99a937",
   "metadata": {},
   "source": [
    "# Basic Dynamic Programming Problems\n",
    "\n",
    "In this chapter, we'll solve some basic Dynamic Programming problems. These problems will help you understand how to apply the concepts of memoization and tabulation that we learned in the previous chapter.\n",
    "\n",
    "## 1. Fibonacci Sequence\n",
    "\n",
    "We've already seen the Fibonacci sequence in previous chapters, but let's quickly recap it here as it's a classic example of a DP problem.\n",
    "\n",
    "### Problem Statement:\n",
    "Given a number n, find the nth Fibonacci number. The Fibonacci sequence is defined as:\n",
    "\n",
    "$F(n) = F(n-1) + F(n-2)$, where $F(0) = 0$ and $F(1) = 1$.\n",
    "\n",
    "### Solution:\n",
    "We've already seen both memoization and tabulation approaches for this problem in Chapter 2. Here's the tabulation approach again for reference:"
   ]
  },
  {
   "cell_type": "code",
   "execution_count": 1,
   "id": "3db79b94",
   "metadata": {},
   "outputs": [
    {
     "name": "stdout",
     "output_type": "stream",
     "text": [
      "55\n"
     ]
    }
   ],
   "source": [
    "    def fibonacci(n):\n",
    "        if n <= 1:\n",
    "            return n\n",
    "        dp = [0] * (n + 1)\n",
    "        dp[1] = 1\n",
    "        for i in range(2, n + 1):\n",
    "            dp[i] = dp[i-1] + dp[i-2]\n",
    "        return dp[n]\n",
    "\n",
    "    # Example usage\n",
    "    print(fibonacci(10))  # Output: 55"
   ]
  },
  {
   "cell_type": "markdown",
   "id": "57a88f34",
   "metadata": {},
   "source": [
    "## 2. Climbing Stairs\n",
    "\n",
    "### Problem Statement:\n",
    "You are climbing a staircase. It takes n steps to reach the top. Each time you can either climb 1 or 2 steps. In how many distinct ways can you climb to the top?\n",
    "\n",
    "### Solution:\n",
    "This problem is similar to the Fibonacci sequence. At any step, you can arrive either from one step below or two steps below. We can represent this as:\n",
    "\n",
    "$dp[i] = dp[i-1] + dp[i-2]$\n",
    "\n",
    "Where $dp[i]$ is the number of ways to reach the i-th step."
   ]
  },
  {
   "cell_type": "code",
   "execution_count": 2,
   "id": "a48783ed",
   "metadata": {},
   "outputs": [
    {
     "name": "stdout",
     "output_type": "stream",
     "text": [
      "8\n"
     ]
    }
   ],
   "source": [
    "    def climb_stairs(n):\n",
    "        if n <= 2:\n",
    "            return n\n",
    "        dp = [0] * (n + 1)\n",
    "        dp[1] = 1\n",
    "        dp[2] = 2\n",
    "        for i in range(3, n + 1):\n",
    "            dp[i] = dp[i-1] + dp[i-2]\n",
    "        return dp[n]\n",
    "\n",
    "    # Example usage\n",
    "    print(climb_stairs(5))  # Output: 8"
   ]
  },
  {
   "cell_type": "markdown",
   "id": "e7c8a957",
   "metadata": {},
   "source": [
    "### Explanation:\n",
    "- $dp[i]$ represents the number of ways to reach the i-th step.\n",
    "- To reach the i-th step, we can either take a single step from the (i-1)th step or take two steps from the (i-2)th step.\n",
    "- Therefore, $dp[i] = dp[i-1] + dp[i-2]$\n",
    "\n",
    "## 3. Coin Change Problem\n",
    "\n",
    "### Problem Statement:\n",
    "Given an array of coin denominations and a target amount, find the minimum number of coins needed to make up that amount. If the amount cannot be made up by any combination of the coins, return -1.\n",
    "\n",
    "### Solution:\n",
    "We'll use a bottom-up (tabulation) approach for this problem. The recurrence relation can be expressed as:\n",
    "\n",
    "$dp[i] = \\min_{c \\in coins} \\{dp[i-c] + 1\\}$ if $i \\geq c$\n",
    "\n",
    "Where $dp[i]$ is the minimum number of coins needed to make amount $i$."
   ]
  },
  {
   "cell_type": "code",
   "execution_count": 3,
   "id": "e02ee827",
   "metadata": {},
   "outputs": [
    {
     "name": "stdout",
     "output_type": "stream",
     "text": [
      "3\n"
     ]
    }
   ],
   "source": [
    "    def coin_change(coins, amount):\n",
    "        dp = [float('inf')] * (amount + 1)\n",
    "        dp[0] = 0\n",
    "        \n",
    "        for i in range(1, amount + 1):\n",
    "            for coin in coins:\n",
    "                if coin <= i:\n",
    "                    dp[i] = min(dp[i], dp[i - coin] + 1)\n",
    "        \n",
    "        return dp[amount] if dp[amount] != float('inf') else -1\n",
    "\n",
    "    # Example usage\n",
    "    coins = [1, 2, 5]\n",
    "    amount = 11\n",
    "    print(coin_change(coins, amount))  # Output: 3 (5 + 5 + 1)"
   ]
  },
  {
   "cell_type": "markdown",
   "id": "247daee9",
   "metadata": {},
   "source": [
    "### Explanation:\n",
    "- $dp[i]$ represents the minimum number of coins needed to make amount $i$.\n",
    "- We initialize $dp[0] = 0$ (it takes 0 coins to make amount 0) and the rest to infinity.\n",
    "- For each amount $i$ from 1 to the target amount:\n",
    "  - For each coin denomination $c$:\n",
    "    - If the coin value is less than or equal to the current amount, we have two choices:\n",
    "      1. Don't use this coin (keep $dp[i]$ as is)\n",
    "      2. Use this coin ($1 + dp[i - c]$)\n",
    "    - We take the minimum of these two choices.\n",
    "- At the end, $dp[amount]$ gives us the minimum number of coins needed.\n",
    "\n",
    "These problems demonstrate how Dynamic Programming can be applied to solve various types of questions. They all follow the same pattern:\n",
    "1. Define the subproblems\n",
    "2. Find the recurrence relation between subproblems\n",
    "3. Solve the base cases\n",
    "4. Either use memoization (top-down) or build a table (bottom-up) to solve larger problems\n",
    "\n",
    "As you practice more DP problems, you'll start recognizing these patterns more easily. In the next chapter, we'll dive into more complex DP problems and explore different types of DP patterns."
   ]
  }
 ],
 "metadata": {
  "jupytext": {
   "text_representation": {
    "extension": ".md",
    "format_name": "myst"
   }
  },
  "kernelspec": {
   "display_name": "Python 3",
   "language": "python",
   "name": "python3"
  },
  "language_info": {
   "codemirror_mode": {
    "name": "ipython",
    "version": 3
   },
   "file_extension": ".py",
   "mimetype": "text/x-python",
   "name": "python",
   "nbconvert_exporter": "python",
   "pygments_lexer": "ipython3",
   "version": "3.9.2"
  },
  "source_map": [
   10,
   28,
   40,
   54,
   67,
   86,
   102
  ]
 },
 "nbformat": 4,
 "nbformat_minor": 5
}