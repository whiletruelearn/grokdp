{
 "cells": [
  {
   "cell_type": "markdown",
   "id": "d3e9a085",
   "metadata": {},
   "source": [
    "(chapter_6)=\n",
    "\n",
    "# Classic Dynamic Programming Problems\n",
    "\n",
    "In this chapter, we'll explore some classic Dynamic Programming problems that are frequently asked in coding interviews and competitive programming contests. These problems are chosen for their educational value and the important DP concepts they illustrate.\n",
    "\n",
    "## 1. Knapsack Problem\n",
    "\n",
    "### Problem Statement:\n",
    "Given a set of items, each with a weight and a value, determine the number of each item to include in a collection so that the total weight is less than or equal to a given limit and the total value is as large as possible.\n",
    "\n",
    "### Solution:"
   ]
  },
  {
   "cell_type": "code",
   "execution_count": 1,
   "id": "266f8d76",
   "metadata": {},
   "outputs": [
    {
     "name": "stdout",
     "output_type": "stream",
     "text": [
      "220\n"
     ]
    }
   ],
   "source": [
    "    def knapsack(values, weights, capacity):\n",
    "        n = len(values)\n",
    "        dp = [[0 for _ in range(capacity + 1)] for _ in range(n + 1)]\n",
    "        \n",
    "        for i in range(1, n + 1):\n",
    "            for w in range(1, capacity + 1):\n",
    "                if weights[i-1] <= w:\n",
    "                    dp[i][w] = max(values[i-1] + dp[i-1][w-weights[i-1]], dp[i-1][w])\n",
    "                else:\n",
    "                    dp[i][w] = dp[i-1][w]\n",
    "        \n",
    "        return dp[n][capacity]\n",
    "\n",
    "    # Example usage\n",
    "    values = [60, 100, 120]\n",
    "    weights = [10, 20, 30]\n",
    "    capacity = 50\n",
    "    print(knapsack(values, weights, capacity))  # Output: 220"
   ]
  },
  {
   "cell_type": "markdown",
   "id": "f5799d29",
   "metadata": {},
   "source": [
    "### Explanation:\n",
    "- We use a 2D DP table where `dp[i][w]` represents the maximum value that can be obtained using the first i items and with a maximum weight of w.\n",
    "- The recurrence relation is:\n",
    "  \n",
    "  $dp[i][w] = \\max(values[i-1] + dp[i-1][w-weights[i-1]], dp[i-1][w])$ if $weights[i-1] \\leq w$\n",
    "  \n",
    "  $dp[i][w] = dp[i-1][w]$ otherwise\n",
    "\n",
    "- Time Complexity: $O(n \\times capacity)$\n",
    "- Space Complexity: $O(n \\times capacity)$\n",
    "\n",
    "## 2. Edit Distance\n",
    "\n",
    "### Problem Statement:\n",
    "Given two strings `word1` and `word2`, return the minimum number of operations required to convert `word1` to `word2`. You have the following three operations permitted on a word:\n",
    "- Insert a character\n",
    "- Delete a character\n",
    "- Replace a character\n",
    "\n",
    "### Solution:"
   ]
  },
  {
   "cell_type": "code",
   "execution_count": 2,
   "id": "a54f7f3a",
   "metadata": {},
   "outputs": [
    {
     "name": "stdout",
     "output_type": "stream",
     "text": [
      "3\n"
     ]
    }
   ],
   "source": [
    "    def min_distance(word1, word2):\n",
    "        m, n = len(word1), len(word2)\n",
    "        dp = [[0] * (n + 1) for _ in range(m + 1)]\n",
    "        \n",
    "        for i in range(m + 1):\n",
    "            dp[i][0] = i\n",
    "        for j in range(n + 1):\n",
    "            dp[0][j] = j\n",
    "        \n",
    "        for i in range(1, m + 1):\n",
    "            for j in range(1, n + 1):\n",
    "                if word1[i-1] == word2[j-1]:\n",
    "                    dp[i][j] = dp[i-1][j-1]\n",
    "                else:\n",
    "                    dp[i][j] = 1 + min(dp[i-1][j],    # Delete\n",
    "                                       dp[i][j-1],    # Insert\n",
    "                                       dp[i-1][j-1])  # Replace\n",
    "        \n",
    "        return dp[m][n]\n",
    "\n",
    "    # Example usage\n",
    "    word1 = \"horse\"\n",
    "    word2 = \"ros\"\n",
    "    print(min_distance(word1, word2))  # Output: 3"
   ]
  },
  {
   "cell_type": "markdown",
   "id": "b9974486",
   "metadata": {},
   "source": [
    "### Explanation:\n",
    "- We use a 2D DP table where `dp[i][j]` represents the minimum number of operations to convert the first i characters of `word1` to the first j characters of `word2`.\n",
    "- The recurrence relation is:\n",
    "  \n",
    "  If $word1[i-1] == word2[j-1]$:\n",
    "    $dp[i][j] = dp[i-1][j-1]$\n",
    "  \n",
    "  Else:\n",
    "    $dp[i][j] = 1 + \\min(dp[i-1][j], dp[i][j-1], dp[i-1][j-1])$\n",
    "\n",
    "- Time Complexity: $O(m \\times n)$\n",
    "- Space Complexity: $O(m \\times n)$\n",
    "\n",
    "## 3. Palindrome Partitioning\n",
    "\n",
    "### Problem Statement:\n",
    "Given a string s, partition s such that every substring of the partition is a palindrome. Return the minimum cuts needed for a palindrome partitioning of s.\n",
    "\n",
    "### Solution:"
   ]
  },
  {
   "cell_type": "code",
   "execution_count": 3,
   "id": "5e386205",
   "metadata": {},
   "outputs": [
    {
     "name": "stdout",
     "output_type": "stream",
     "text": [
      "1\n"
     ]
    }
   ],
   "source": [
    "    def min_cut(s):\n",
    "        n = len(s)\n",
    "        is_palindrome = [[False] * n for _ in range(n)]\n",
    "        cut = [0] * n\n",
    "        \n",
    "        for i in range(n):\n",
    "            min_cut = i\n",
    "            for j in range(i + 1):\n",
    "                if s[i] == s[j] and (i - j <= 2 or is_palindrome[j+1][i-1]):\n",
    "                    is_palindrome[j][i] = True\n",
    "                    min_cut = 0 if j == 0 else min(min_cut, cut[j-1] + 1)\n",
    "            cut[i] = min_cut\n",
    "        \n",
    "        return cut[n-1]\n",
    "\n",
    "    # Example usage\n",
    "    s = \"aab\"\n",
    "    print(min_cut(s))  # Output: 1"
   ]
  },
  {
   "cell_type": "markdown",
   "id": "f61c9a04",
   "metadata": {},
   "source": [
    "### Explanation:\n",
    "- We use two DP tables:\n",
    "  1. `is_palindrome[i][j]` to store whether the substring s[i:j+1] is a palindrome\n",
    "  2. `cut[i]` to store the minimum number of cuts needed for the first i+1 characters\n",
    "- We iterate through all possible ending positions and find the minimum number of cuts needed.\n",
    "- The recurrence relation for `cut` is:\n",
    "  \n",
    "  $cut[i] = \\min_{0 \\leq j \\leq i} \\{cut[j-1] + 1\\}$ if $s[j:i+1]$ is a palindrome\n",
    "\n",
    "- Time Complexity: $O(n^2)$\n",
    "- Space Complexity: $O(n^2)$\n",
    "\n",
    "These classic DP problems demonstrate various techniques:\n",
    "1. The Knapsack problem shows how to handle problems with weight constraints.\n",
    "2. Edit Distance illustrates how to solve string manipulation problems using DP.\n",
    "3. Palindrome Partitioning combines string manipulation with optimization.\n",
    "\n",
    "Understanding these problems and their solutions will significantly improve your ability to recognize and solve DP problems in interviews and competitions. In the next chapter, we'll focus on DP problems specifically related to strings, which form a significant category of their own."
   ]
  }
 ],
 "metadata": {
  "jupytext": {
   "text_representation": {
    "extension": ".md",
    "format_name": "myst"
   }
  },
  "kernelspec": {
   "display_name": "Python 3",
   "language": "python",
   "name": "python3"
  },
  "language_info": {
   "codemirror_mode": {
    "name": "ipython",
    "version": 3
   },
   "file_extension": ".py",
   "mimetype": "text/x-python",
   "name": "python",
   "nbconvert_exporter": "python",
   "pygments_lexer": "ipython3",
   "version": "3.9.2"
  },
  "source_map": [
   10,
   25,
   44,
   67,
   92,
   114,
   133
  ]
 },
 "nbformat": 4,
 "nbformat_minor": 5
}