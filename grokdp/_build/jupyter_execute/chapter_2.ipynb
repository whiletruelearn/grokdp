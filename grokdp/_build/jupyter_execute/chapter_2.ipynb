{
 "cells": [
  {
   "cell_type": "markdown",
   "id": "8d161947",
   "metadata": {},
   "source": [
    "(chapter_2)=\n",
    "\n",
    "# Fundamentals of Dynamic Programming\n",
    "\n",
    "In this chapter, we'll dive deeper into the fundamental approaches used in Dynamic Programming (DP): memoization and tabulation. We'll also discuss how to analyze the time and space complexity of DP solutions.\n",
    "\n",
    "## Memoization (Top-down approach)\n",
    "\n",
    "Memoization is a top-down approach to dynamic programming where we start with the original problem and break it down into smaller subproblems. As we solve each subproblem, we store its result. If we encounter the same subproblem again, we can simply look up the previously computed result instead of recalculating it.\n",
    "\n",
    "Let's implement the Fibonacci sequence using memoization:"
   ]
  },
  {
   "cell_type": "code",
   "execution_count": 1,
   "id": "e4542182",
   "metadata": {},
   "outputs": [
    {
     "name": "stdout",
     "output_type": "stream",
     "text": [
      "354224848179261915075\n"
     ]
    }
   ],
   "source": [
    "    def fibonacci_memo(n, memo={}):\n",
    "        if n in memo:\n",
    "            return memo[n]\n",
    "        if n <= 1:\n",
    "            return n\n",
    "        memo[n] = fibonacci_memo(n-1, memo) + fibonacci_memo(n-2, memo)\n",
    "        return memo[n]\n",
    "\n",
    "    # Example usage\n",
    "    print(fibonacci_memo(100))"
   ]
  },
  {
   "cell_type": "markdown",
   "id": "7cfcc4ee",
   "metadata": {},
   "source": [
    "In this implementation:\n",
    "1. We use a dictionary `memo` to store computed results.\n",
    "2. Before calculating `fibonacci_memo(n)`, we check if it's already in `memo`.\n",
    "3. If it's not in `memo`, we calculate it and store the result.\n",
    "\n",
    "This approach significantly reduces the number of recursive calls, improving efficiency.\n",
    "\n",
    "## Tabulation (Bottom-up approach)\n",
    "\n",
    "Tabulation is a bottom-up approach where we start by solving the smallest subproblems and use their solutions to build up to the solution of the original problem. This is typically implemented using iteration rather than recursion.\n",
    "\n",
    "Here's the Fibonacci sequence implemented using tabulation:"
   ]
  },
  {
   "cell_type": "code",
   "execution_count": 2,
   "id": "d4ad5ad9",
   "metadata": {},
   "outputs": [
    {
     "name": "stdout",
     "output_type": "stream",
     "text": [
      "354224848179261915075\n"
     ]
    }
   ],
   "source": [
    "    def fibonacci_tab(n):\n",
    "        if n <= 1:\n",
    "            return n\n",
    "        dp = [0] * (n + 1)\n",
    "        dp[1] = 1\n",
    "        for i in range(2, n + 1):\n",
    "            dp[i] = dp[i-1] + dp[i-2]\n",
    "        return dp[n]\n",
    "\n",
    "    # Example usage\n",
    "    print(fibonacci_tab(100))"
   ]
  },
  {
   "cell_type": "markdown",
   "id": "b903d8e7",
   "metadata": {},
   "source": [
    "In this implementation:\n",
    "1. We create an array `dp` to store all fibonacci numbers up to n.\n",
    "2. We start with the base cases (dp[0] = 0, dp[1] = 1).\n",
    "3. We iteratively fill the array, with each number being the sum of the two preceding ones.\n",
    "\n",
    "## Time and Space Complexity Analysis\n",
    "\n",
    "Understanding the time and space complexity of DP solutions is crucial for writing efficient algorithms.\n",
    "\n",
    "### Time Complexity\n",
    "\n",
    "For both memoization and tabulation approaches to the Fibonacci sequence:\n",
    "- Time Complexity: O(n)\n",
    "  - We perform a constant amount of work for each number from 0 to n.\n",
    "\n",
    "### Space Complexity\n",
    "\n",
    "- Memoization:\n",
    "  - Space Complexity: O(n)\n",
    "    - In the worst case, we store results for all numbers from 0 to n in the memo dictionary.\n",
    "  - Call Stack Space: O(n)\n",
    "    - The recursive calls can go n levels deep.\n",
    "\n",
    "- Tabulation:\n",
    "  - Space Complexity: O(n)\n",
    "    - We explicitly create an array of size n+1.\n",
    "  - Call Stack Space: O(1)\n",
    "    - We use iteration, so there's no recursive call stack.\n",
    "\n",
    "While both approaches have the same time and space complexity for the Fibonacci problem, they can differ for other problems. \n",
    "\n",
    "Memoization is often easier to implement as it follows the natural recursive structure of the problem. However, it can lead to stack overflow for very large inputs due to the depth of recursive calls.\n",
    "\n",
    "Tabulation usually provides better space complexity as it doesn't use recursion, avoiding call stack issues. It can also be more efficient as the order of computation is more straightforward.\n",
    "\n",
    "In the next chapter, we'll apply these techniques to solve some basic Dynamic Programming problems, which will help solidify your understanding of these concepts."
   ]
  }
 ],
 "metadata": {
  "jupytext": {
   "text_representation": {
    "extension": ".md",
    "format_name": "myst"
   }
  },
  "kernelspec": {
   "display_name": "Python 3",
   "language": "python",
   "name": "python3"
  },
  "language_info": {
   "codemirror_mode": {
    "name": "ipython",
    "version": 3
   },
   "file_extension": ".py",
   "mimetype": "text/x-python",
   "name": "python",
   "nbconvert_exporter": "python",
   "pygments_lexer": "ipython3",
   "version": "3.9.2"
  },
  "source_map": [
   10,
   24,
   35,
   50,
   62
  ]
 },
 "nbformat": 4,
 "nbformat_minor": 5
}