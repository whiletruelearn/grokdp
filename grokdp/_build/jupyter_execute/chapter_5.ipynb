{
 "cells": [
  {
   "cell_type": "markdown",
   "id": "2e3d94c6",
   "metadata": {},
   "source": [
    "(chapter_5)=\n",
    "\n",
    "# Advanced Dynamic Programming Techniques\n",
    "\n",
    "In this chapter, we'll explore advanced Dynamic Programming techniques that are often used to solve more complex problems. We'll cover state compression, bitmasking in DP, and DP on trees.\n",
    "\n",
    "## State Compression\n",
    "\n",
    "State compression is a technique used to reduce the state space in DP problems, often by encoding the state into a single integer or using bitwise operations.\n",
    "\n",
    "### Problem: Traveling Salesman Problem (TSP)\n",
    "\n",
    "#### Problem Statement:\n",
    "Given a list of cities and the distances between each pair of cities, what is the shortest possible route that visits each city exactly once and returns to the origin city?\n",
    "\n",
    "#### Solution using State Compression:"
   ]
  },
  {
   "cell_type": "code",
   "execution_count": 1,
   "id": "7f46a603",
   "metadata": {},
   "outputs": [
    {
     "name": "stdout",
     "output_type": "stream",
     "text": [
      "80\n"
     ]
    }
   ],
   "source": [
    "    import itertools\n",
    "\n",
    "    def tsp(distances):\n",
    "        n = len(distances)\n",
    "        all_sets = [()]  # start with empty tuple\n",
    "        for k in range(1, n):\n",
    "            all_sets.extend(itertools.combinations(range(1, n), k))\n",
    "        \n",
    "        memo = {}\n",
    "        \n",
    "        def dp(pos, visited):\n",
    "            if visited == all_sets[-1]:  # all cities have been visited\n",
    "                return distances[pos][0]  # return to starting city\n",
    "            \n",
    "            state = (pos, visited)\n",
    "            if state in memo:\n",
    "                return memo[state]\n",
    "            \n",
    "            ans = float('inf')\n",
    "            for next_city in range(1, n):\n",
    "                if next_city not in visited:\n",
    "                    new_visited = tuple(sorted(visited + (next_city,)))\n",
    "                    ans = min(ans, distances[pos][next_city] + dp(next_city, new_visited))\n",
    "            \n",
    "            memo[state] = ans\n",
    "            return ans\n",
    "        \n",
    "        return dp(0, ())\n",
    "\n",
    "    # Example usage\n",
    "    distances = [\n",
    "        [0, 10, 15, 20],\n",
    "        [10, 0, 35, 25],\n",
    "        [15, 35, 0, 30],\n",
    "        [20, 25, 30, 0]\n",
    "    ]\n",
    "    print(tsp(distances))  # Output: 80"
   ]
  },
  {
   "cell_type": "markdown",
   "id": "cf8457f0",
   "metadata": {},
   "source": [
    "#### Explanation:\n",
    "- We use tuples to represent the set of visited cities, which allows for efficient hashing and memoization.\n",
    "- The state is compressed into a tuple `(current_city, visited_cities)`.\n",
    "- We use memoization to avoid redundant calculations.\n",
    "- The time complexity is $O(n^2 2^n)$, which is a significant improvement over the naive $O(n!)$ approach.\n",
    "\n",
    "## Bitmasking in DP\n",
    "\n",
    "Bitmasking is a technique where we use bits to represent a subset of elements. It's particularly useful in DP problems involving subsets.\n",
    "\n",
    "### Problem: Subset Sum\n",
    "\n",
    "#### Problem Statement:\n",
    "Given an array of integers and a target sum, determine if there exists a subset of the array that adds up to the target sum.\n",
    "\n",
    "#### Solution using Bitmasking:"
   ]
  },
  {
   "cell_type": "code",
   "execution_count": 2,
   "id": "0997ade0",
   "metadata": {},
   "outputs": [
    {
     "name": "stdout",
     "output_type": "stream",
     "text": [
      "True\n"
     ]
    }
   ],
   "source": [
    "    def subset_sum(nums, target):\n",
    "        n = len(nums)\n",
    "        dp = [False] * (1 << n)\n",
    "        dp[0] = True  # empty subset sums to 0\n",
    "        \n",
    "        for mask in range(1, 1 << n):\n",
    "            for i in range(n):\n",
    "                if mask & (1 << i):\n",
    "                    prev_mask = mask ^ (1 << i)\n",
    "                    if dp[prev_mask]:\n",
    "                        dp[mask] = dp[prev_mask] or (sum(nums[j] for j in range(n) if mask & (1 << j)) == target)\n",
    "        \n",
    "        return dp[-1]\n",
    "\n",
    "    # Example usage\n",
    "    nums = [3, 34, 4, 12, 5, 2]\n",
    "    target = 9\n",
    "    print(subset_sum(nums, target))  # Output: True"
   ]
  },
  {
   "cell_type": "markdown",
   "id": "dde1e13a",
   "metadata": {},
   "source": [
    "#### Explanation:\n",
    "- We use a bit mask to represent subsets. For example, 101 in binary represents the subset containing the first and third elements.\n",
    "- `dp[mask]` is True if there exists a subset represented by `mask` that sums to the target.\n",
    "- We iterate through all possible subsets (2^n) and build up the solution.\n",
    "- The time complexity is $O(n2^n)$, which is efficient for small to medium-sized inputs.\n",
    "\n",
    "## DP on Trees\n",
    "\n",
    "DP can also be applied to tree structures, often using a post-order traversal to build solutions from the leaves up to the root.\n",
    "\n",
    "### Problem: Binary Tree Maximum Path Sum\n",
    "\n",
    "#### Problem Statement:\n",
    "Given a binary tree, find the maximum path sum. The path may start and end at any node in the tree.\n",
    "\n",
    "#### Solution:"
   ]
  },
  {
   "cell_type": "code",
   "execution_count": 3,
   "id": "0a7a6315",
   "metadata": {},
   "outputs": [
    {
     "name": "stdout",
     "output_type": "stream",
     "text": [
      "42\n"
     ]
    }
   ],
   "source": [
    "    class TreeNode:\n",
    "        def __init__(self, val=0, left=None, right=None):\n",
    "            self.val = val\n",
    "            self.left = left\n",
    "            self.right = right\n",
    "\n",
    "    def max_path_sum(root):\n",
    "        def max_gain(node):\n",
    "            nonlocal max_sum\n",
    "            if not node:\n",
    "                return 0\n",
    "            \n",
    "            left_gain = max(max_gain(node.left), 0)\n",
    "            right_gain = max(max_gain(node.right), 0)\n",
    "            \n",
    "            current_max_path = node.val + left_gain + right_gain\n",
    "            max_sum = max(max_sum, current_max_path)\n",
    "            \n",
    "            return node.val + max(left_gain, right_gain)\n",
    "        \n",
    "        max_sum = float('-inf')\n",
    "        max_gain(root)\n",
    "        return max_sum\n",
    "\n",
    "    # Example usage\n",
    "    root = TreeNode(10)\n",
    "    root.left = TreeNode(2)\n",
    "    root.right = TreeNode(10)\n",
    "    root.left.left = TreeNode(20)\n",
    "    root.left.right = TreeNode(1)\n",
    "    root.right.right = TreeNode(-25)\n",
    "    root.right.right.left = TreeNode(3)\n",
    "    root.right.right.right = TreeNode(4)\n",
    "    print(max_path_sum(root))  # Output: 42"
   ]
  },
  {
   "cell_type": "markdown",
   "id": "3c976727",
   "metadata": {},
   "source": [
    "#### Explanation:\n",
    "- We use a post-order traversal to compute the maximum path sum.\n",
    "- For each node, we calculate the maximum gain that can be obtained by including that node in a path.\n",
    "- We update the global maximum sum at each node by considering the path that goes through the node and potentially its left and right subtrees.\n",
    "- The time complexity is O(n), where n is the number of nodes in the tree.\n",
    "\n",
    "These advanced DP techniques allow us to solve complex problems more efficiently. State compression and bitmasking help us handle problems with large state spaces, while DP on trees extends our DP skills to hierarchical structures.\n",
    "\n",
    "In the next chapter, we'll explore some classic DP problems that often appear in coding interviews and discuss strategies for approaching them."
   ]
  }
 ],
 "metadata": {
  "jupytext": {
   "text_representation": {
    "extension": ".md",
    "format_name": "myst"
   }
  },
  "kernelspec": {
   "display_name": "Python 3",
   "language": "python",
   "name": "python3"
  },
  "language_info": {
   "codemirror_mode": {
    "name": "ipython",
    "version": 3
   },
   "file_extension": ".py",
   "mimetype": "text/x-python",
   "name": "python",
   "nbconvert_exporter": "python",
   "pygments_lexer": "ipython3",
   "version": "3.9.2"
  },
  "source_map": [
   10,
   29,
   67,
   86,
   105,
   125,
   160
  ]
 },
 "nbformat": 4,
 "nbformat_minor": 5
}