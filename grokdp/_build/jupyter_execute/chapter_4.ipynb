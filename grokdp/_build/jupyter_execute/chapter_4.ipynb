{
 "cells": [
  {
   "cell_type": "markdown",
   "id": "1d1a9cd9",
   "metadata": {},
   "source": [
    "(chapter_4)=\n",
    "\n",
    "# Intermediate Dynamic Programming Concepts\n",
    "\n",
    "In this chapter, we'll explore more advanced Dynamic Programming problems, focusing on 1D and 2D DP concepts. These problems will help you understand how to approach more complex scenarios using DP techniques.\n",
    "\n",
    "## 1D DP Problems\n",
    "\n",
    "### Maximum Subarray Sum (Kadane's Algorithm)\n",
    "\n",
    "#### Problem Statement:\n",
    "Given an integer array `nums`, find the contiguous subarray (containing at least one number) which has the largest sum and return its sum.\n",
    "\n",
    "#### Solution:\n",
    "This problem can be solved using Kadane's algorithm, which is a classic example of 1D dynamic programming."
   ]
  },
  {
   "cell_type": "code",
   "execution_count": 1,
   "id": "022e0b89",
   "metadata": {},
   "outputs": [
    {
     "name": "stdout",
     "output_type": "stream",
     "text": [
      "6\n"
     ]
    }
   ],
   "source": [
    "    def max_subarray(nums):\n",
    "        max_sum = current_sum = nums[0]\n",
    "        for num in nums[1:]:\n",
    "            current_sum = max(num, current_sum + num)\n",
    "            max_sum = max(max_sum, current_sum)\n",
    "        return max_sum\n",
    "\n",
    "    # Example usage\n",
    "    nums = [-2, 1, -3, 4, -1, 2, 1, -5, 4]\n",
    "    print(max_subarray(nums))  # Output: 6"
   ]
  },
  {
   "cell_type": "markdown",
   "id": "1da31fec",
   "metadata": {},
   "source": [
    "#### Explanation:\n",
    "The key idea is to maintain two variables:\n",
    "1. `current_sum`: the maximum sum ending at the current position\n",
    "2. `max_sum`: the maximum sum seen so far\n",
    "\n",
    "The recurrence relation can be expressed as:\n",
    "\n",
    "$current\\_sum[i] = \\max(nums[i], current\\_sum[i-1] + nums[i])$\n",
    "\n",
    "$max\\_sum = \\max(max\\_sum, current\\_sum[i])$\n",
    "\n",
    "This algorithm has a time complexity of O(n) and space complexity of O(1).\n",
    "\n",
    "### Longest Increasing Subsequence\n",
    "\n",
    "#### Problem Statement:\n",
    "Given an integer array `nums`, return the length of the longest strictly increasing subsequence.\n",
    "\n",
    "#### Solution:\n",
    "We can solve this using dynamic programming with a time complexity of O(n^2)."
   ]
  },
  {
   "cell_type": "code",
   "execution_count": 2,
   "id": "40c0946a",
   "metadata": {},
   "outputs": [
    {
     "name": "stdout",
     "output_type": "stream",
     "text": [
      "4\n"
     ]
    }
   ],
   "source": [
    "    def longest_increasing_subsequence(nums):\n",
    "        if not nums:\n",
    "            return 0\n",
    "        n = len(nums)\n",
    "        dp = [1] * n\n",
    "        for i in range(1, n):\n",
    "            for j in range(i):\n",
    "                if nums[i] > nums[j]:\n",
    "                    dp[i] = max(dp[i], dp[j] + 1)\n",
    "        return max(dp)\n",
    "\n",
    "    # Example usage\n",
    "    nums = [10, 9, 2, 5, 3, 7, 101, 18]\n",
    "    print(longest_increasing_subsequence(nums))  # Output: 4"
   ]
  },
  {
   "cell_type": "markdown",
   "id": "e24490e0",
   "metadata": {},
   "source": [
    "#### Explanation:\n",
    "- `dp[i]` represents the length of the longest increasing subsequence ending at index i.\n",
    "- The recurrence relation is:\n",
    "\n",
    "  $dp[i] = \\max(dp[i], dp[j] + 1)$ for all $j < i$ where $nums[i] > nums[j]$\n",
    "\n",
    "- The final answer is the maximum value in the dp array.\n",
    "\n",
    "## 2D DP Problems\n",
    "\n",
    "### Grid Traveler Problem\n",
    "\n",
    "#### Problem Statement:\n",
    "Given a grid of size m x n, a traveler starts from the top-left corner and can only move right or down. The traveler wants to reach the bottom-right corner. How many possible unique paths are there?\n",
    "\n",
    "#### Solution:\n",
    "We can solve this using a 2D DP approach."
   ]
  },
  {
   "cell_type": "code",
   "execution_count": 3,
   "id": "7a259c44",
   "metadata": {},
   "outputs": [
    {
     "name": "stdout",
     "output_type": "stream",
     "text": [
      "28\n"
     ]
    }
   ],
   "source": [
    "    def unique_paths(m, n):\n",
    "        dp = [[1] * n for _ in range(m)]\n",
    "        for i in range(1, m):\n",
    "            for j in range(1, n):\n",
    "                dp[i][j] = dp[i-1][j] + dp[i][j-1]\n",
    "        return dp[m-1][n-1]\n",
    "\n",
    "    # Example usage\n",
    "    print(unique_paths(3, 7))  # Output: 28"
   ]
  },
  {
   "cell_type": "markdown",
   "id": "9e0c1fab",
   "metadata": {},
   "source": [
    "#### Explanation:\n",
    "- `dp[i][j]` represents the number of unique paths to reach the cell (i, j).\n",
    "- The recurrence relation is:\n",
    "\n",
    "  $dp[i][j] = dp[i-1][j] + dp[i][j-1]$\n",
    "\n",
    "- We initialize the first row and first column to 1 since there's only one way to reach any cell in these regions.\n",
    "- The final answer is in `dp[m-1][n-1]`.\n",
    "\n",
    "### Longest Common Subsequence\n",
    "\n",
    "#### Problem Statement:\n",
    "Given two strings `text1` and `text2`, return the length of their longest common subsequence. If there is no common subsequence, return 0.\n",
    "\n",
    "#### Solution:\n",
    "This is a classic 2D DP problem."
   ]
  },
  {
   "cell_type": "code",
   "execution_count": 4,
   "id": "0195af37",
   "metadata": {},
   "outputs": [
    {
     "name": "stdout",
     "output_type": "stream",
     "text": [
      "3\n"
     ]
    }
   ],
   "source": [
    "    def longest_common_subsequence(text1, text2):\n",
    "        m, n = len(text1), len(text2)\n",
    "        dp = [[0] * (n + 1) for _ in range(m + 1)]\n",
    "        \n",
    "        for i in range(1, m + 1):\n",
    "            for j in range(1, n + 1):\n",
    "                if text1[i-1] == text2[j-1]:\n",
    "                    dp[i][j] = dp[i-1][j-1] + 1\n",
    "                else:\n",
    "                    dp[i][j] = max(dp[i-1][j], dp[i][j-1])\n",
    "        \n",
    "        return dp[m][n]\n",
    "\n",
    "    # Example usage\n",
    "    text1 = \"abcde\"\n",
    "    text2 = \"ace\"\n",
    "    print(longest_common_subsequence(text1, text2))  # Output: 3"
   ]
  },
  {
   "cell_type": "markdown",
   "id": "96b0c9ea",
   "metadata": {},
   "source": [
    "#### Explanation:\n",
    "- `dp[i][j]` represents the length of the longest common subsequence of `text1[:i]` and `text2[:j]`.\n",
    "- The recurrence relation is:\n",
    "  \n",
    "  If $text1[i-1] == text2[j-1]$:\n",
    "    $dp[i][j] = dp[i-1][j-1] + 1$\n",
    "  \n",
    "  Else:\n",
    "    $dp[i][j] = \\max(dp[i-1][j], dp[i][j-1])$\n",
    "\n",
    "- We initialize the first row and first column to 0.\n",
    "- The final answer is in `dp[m][n]`.\n",
    "\n",
    "These intermediate DP problems demonstrate how to apply DP concepts to more complex scenarios. They introduce the idea of using 1D and 2D arrays to store intermediate results, and show how to derive and apply more intricate recurrence relations.\n",
    "\n",
    "In the next chapter, we'll explore even more advanced DP techniques and tackle some challenging problems that often appear in coding interviews."
   ]
  }
 ],
 "metadata": {
  "jupytext": {
   "text_representation": {
    "extension": ".md",
    "format_name": "myst"
   }
  },
  "kernelspec": {
   "display_name": "Python 3",
   "language": "python",
   "name": "python3"
  },
  "language_info": {
   "codemirror_mode": {
    "name": "ipython",
    "version": 3
   },
   "file_extension": ".py",
   "mimetype": "text/x-python",
   "name": "python",
   "nbconvert_exporter": "python",
   "pygments_lexer": "ipython3",
   "version": "3.9.2"
  },
  "source_map": [
   10,
   28,
   39,
   62,
   77,
   97,
   107,
   126,
   144
  ]
 },
 "nbformat": 4,
 "nbformat_minor": 5
}