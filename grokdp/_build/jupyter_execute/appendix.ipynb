{
 "cells": [
  {
   "cell_type": "markdown",
   "id": "78e9bf64",
   "metadata": {},
   "source": [
    "(appendix)=\n",
    "\n",
    "# Appendix\n",
    "\n",
    "### Appendix A. Python Tips and Tricks for DP\n",
    "\n",
    "Dynamic Programming (DP) can sometimes be challenging to implement. Here are some Python-specific tips and tricks to help you write cleaner, more efficient DP code.\n",
    "\n",
    "#### 1. Use `functools.lru_cache` for Memoization\n",
    "\n",
    "Python's `functools.lru_cache` is a decorator that can be used to automatically cache the results of function calls, making memoization straightforward."
   ]
  },
  {
   "cell_type": "code",
   "execution_count": 1,
   "id": "00bdb9c0",
   "metadata": {},
   "outputs": [
    {
     "name": "stdout",
     "output_type": "stream",
     "text": [
      "55\n"
     ]
    }
   ],
   "source": [
    "from functools import lru_cache\n",
    "\n",
    "@lru_cache(maxsize=None)\n",
    "def fib(n):\n",
    "    if n <= 1:\n",
    "        return n\n",
    "    return fib(n-1) + fib(n-2)\n",
    "\n",
    "print(fib(10))  # Output: 55"
   ]
  },
  {
   "cell_type": "markdown",
   "id": "839adbef",
   "metadata": {},
   "source": [
    "#### 2. Use Default Dictionaries for Dynamic Programming Tables\n",
    "\n",
    "`collections.defaultdict` can simplify the initialization of DP tables, especially when dealing with multi-dimensional DP problems."
   ]
  },
  {
   "cell_type": "code",
   "execution_count": 2,
   "id": "6fa9f9ce",
   "metadata": {},
   "outputs": [
    {
     "name": "stdout",
     "output_type": "stream",
     "text": [
      "55\n"
     ]
    }
   ],
   "source": [
    "from collections import defaultdict\n",
    "\n",
    "dp = defaultdict(int)\n",
    "dp[0] = 1\n",
    "dp[1] = 1\n",
    "\n",
    "for i in range(2, 10):\n",
    "    dp[i] = dp[i-1] + dp[i-2]\n",
    "\n",
    "print(dp[9])  # Output: 55"
   ]
  },
  {
   "cell_type": "markdown",
   "id": "1105267e",
   "metadata": {},
   "source": [
    "#### 3. Inline Conditionals and List Comprehensions\n",
    "\n",
    "Python's inline conditionals and list comprehensions can make your DP code more concise and readable."
   ]
  },
  {
   "cell_type": "code",
   "execution_count": 3,
   "id": "5d478918",
   "metadata": {},
   "outputs": [
    {
     "name": "stdout",
     "output_type": "stream",
     "text": [
      "8\n"
     ]
    }
   ],
   "source": [
    "def climb_stairs(n):\n",
    "    if n <= 1:\n",
    "        return 1\n",
    "    dp = [0] * (n + 1)\n",
    "    dp[0], dp[1] = 1, 1\n",
    "    for i in range(2, n + 1):\n",
    "        dp[i] = dp[i - 1] + dp[i - 2]\n",
    "    return dp[n]\n",
    "\n",
    "print(climb_stairs(5))  # Output: 8"
   ]
  },
  {
   "cell_type": "markdown",
   "id": "64009c71",
   "metadata": {},
   "source": [
    "#### 4. Use Tuple Keys for Multi-Dimensional Problems\n",
    "\n",
    "When working with multi-dimensional DP problems, you can use tuples as dictionary keys to represent states."
   ]
  },
  {
   "cell_type": "code",
   "execution_count": 4,
   "id": "9eed180f",
   "metadata": {},
   "outputs": [
    {
     "name": "stdout",
     "output_type": "stream",
     "text": [
      "6\n"
     ]
    }
   ],
   "source": [
    "def grid_traveler(m, n):\n",
    "    memo = {}\n",
    "    def travel(m, n):\n",
    "        if (m, n) in memo:\n",
    "            return memo[(m, n)]\n",
    "        if m == 0 or n == 0:\n",
    "            return 0\n",
    "        if m == 1 and n == 1:\n",
    "            return 1\n",
    "        memo[(m, n)] = travel(m-1, n) + travel(m, n-1)\n",
    "        return memo[(m, n)]\n",
    "    \n",
    "    return travel(m, n)\n",
    "\n",
    "print(grid_traveler(3, 3))  # Output: 6"
   ]
  },
  {
   "cell_type": "markdown",
   "id": "23a0609f",
   "metadata": {},
   "source": [
    "---\n",
    "\n",
    "### Appendix B. Common DP Patterns Cheat Sheet\n",
    "\n",
    "Understanding common DP patterns can help you identify and solve DP problems more effectively. Here are some frequently encountered patterns:\n",
    "\n",
    "#### 1. Fibonacci Sequence\n",
    "\n",
    "Pattern: Simple recurrence relation with two previous states."
   ]
  },
  {
   "cell_type": "code",
   "execution_count": 5,
   "id": "71f5731c",
   "metadata": {},
   "outputs": [
    {
     "name": "stdout",
     "output_type": "stream",
     "text": [
      "55\n"
     ]
    }
   ],
   "source": [
    "def fib(n):\n",
    "    if n <= 1:\n",
    "        return n\n",
    "    dp = [0] * (n + 1)\n",
    "    dp[1] = 1\n",
    "    for i in range(2, n + 1):\n",
    "        dp[i] = dp[i - 1] + dp[i - 2]\n",
    "    return dp[n]\n",
    "\n",
    "print(fib(10))  # Output: 55"
   ]
  },
  {
   "cell_type": "markdown",
   "id": "36b53492",
   "metadata": {},
   "source": [
    "#### 2. Climbing Stairs\n",
    "\n",
    "Pattern: Similar to Fibonacci, but can be generalized to more steps."
   ]
  },
  {
   "cell_type": "code",
   "execution_count": 6,
   "id": "879434ba",
   "metadata": {},
   "outputs": [
    {
     "name": "stdout",
     "output_type": "stream",
     "text": [
      "8\n"
     ]
    }
   ],
   "source": [
    "def climb_stairs(n):\n",
    "    if n <= 1:\n",
    "        return 1\n",
    "    dp = [0] * (n + 1)\n",
    "    dp[0], dp[1] = 1, 1\n",
    "    for i in range(2, n + 1):\n",
    "        dp[i] = dp[i - 1] + dp[i - 2]\n",
    "    return dp[n]\n",
    "\n",
    "print(climb_stairs(5))  # Output: 8"
   ]
  },
  {
   "cell_type": "markdown",
   "id": "b64d3ffc",
   "metadata": {},
   "source": [
    "#### 3. Coin Change Problem\n",
    "\n",
    "Pattern: Combinatorial problems with multiple options per state."
   ]
  },
  {
   "cell_type": "code",
   "execution_count": 7,
   "id": "4a7c8682",
   "metadata": {},
   "outputs": [
    {
     "name": "stdout",
     "output_type": "stream",
     "text": [
      "3\n"
     ]
    }
   ],
   "source": [
    "def coin_change(coins, amount):\n",
    "    dp = [float('inf')] * (amount + 1)\n",
    "    dp[0] = 0\n",
    "    for coin in coins:\n",
    "        for x in range(coin, amount + 1):\n",
    "            dp[x] = min(dp[x], dp[x - coin] + 1)\n",
    "    return dp[amount] if dp[amount] != float('inf') else -1\n",
    "\n",
    "print(coin_change([1, 2, 5], 11))  # Output: 3"
   ]
  },
  {
   "cell_type": "markdown",
   "id": "19e27c55",
   "metadata": {},
   "source": [
    "#### 4. Longest Increasing Subsequence\n",
    "\n",
    "Pattern: Subsequence problems where order matters."
   ]
  },
  {
   "cell_type": "code",
   "execution_count": 8,
   "id": "725f7981",
   "metadata": {},
   "outputs": [
    {
     "name": "stdout",
     "output_type": "stream",
     "text": [
      "4\n"
     ]
    }
   ],
   "source": [
    "def length_of_lis(nums):\n",
    "    if not nums:\n",
    "        return 0\n",
    "    dp = [1] * len(nums)\n",
    "    for i in range(len(nums)):\n",
    "        for j in range(i):\n",
    "            if nums[i] > nums[j]:\n",
    "                dp[i] = max(dp[i], dp[j] + 1)\n",
    "    return max(dp)\n",
    "\n",
    "print(length_of_lis([10, 9, 2, 5, 3, 7, 101, 18]))  # Output: 4"
   ]
  },
  {
   "cell_type": "markdown",
   "id": "b9fb37e3",
   "metadata": {},
   "source": [
    "#### 5. Longest Common Subsequence\n",
    "\n",
    "Pattern: Subsequence problems in two sequences."
   ]
  },
  {
   "cell_type": "code",
   "execution_count": 9,
   "id": "cc4b8fcf",
   "metadata": {},
   "outputs": [
    {
     "name": "stdout",
     "output_type": "stream",
     "text": [
      "3\n"
     ]
    }
   ],
   "source": [
    "def longest_common_subsequence(text1, text2):\n",
    "    dp = [[0] * (len(text2) + 1) for _ in range(len(text1) + 1)]\n",
    "    for i in range(1, len(text1) + 1):\n",
    "        for j in range(1, len(text2) + 1):\n",
    "            if text1[i - 1] == text2[j - 1]:\n",
    "                dp[i][j] = dp[i - 1][j - 1] + 1\n",
    "            else:\n",
    "                dp[i][j] = max(dp[i - 1][j], dp[i][j - 1])\n",
    "    return dp[-1][-1]\n",
    "\n",
    "print(longest_common_subsequence(\"abcde\", \"ace\"))  # Output: 3"
   ]
  },
  {
   "cell_type": "markdown",
   "id": "ddf1fd7b",
   "metadata": {},
   "source": [
    "By understanding these common patterns and their implementations, you can more effectively tackle a wide range of DP problems."
   ]
  }
 ],
 "metadata": {
  "jupytext": {
   "text_representation": {
    "extension": ".md",
    "format_name": "myst"
   }
  },
  "kernelspec": {
   "display_name": "Python 3",
   "language": "python",
   "name": "python3"
  },
  "language_info": {
   "codemirror_mode": {
    "name": "ipython",
    "version": 3
   },
   "file_extension": ".py",
   "mimetype": "text/x-python",
   "name": "python",
   "nbconvert_exporter": "python",
   "pygments_lexer": "ipython3",
   "version": "3.9.2"
  },
  "source_map": [
   10,
   24,
   34,
   40,
   51,
   57,
   68,
   74,
   90,
   102,
   113,
   119,
   130,
   136,
   146,
   152,
   164,
   170,
   182
  ]
 },
 "nbformat": 4,
 "nbformat_minor": 5
}