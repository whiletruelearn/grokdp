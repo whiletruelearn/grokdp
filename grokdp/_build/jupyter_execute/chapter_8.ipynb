{
 "cells": [
  {
   "cell_type": "markdown",
   "id": "4a96daf6",
   "metadata": {},
   "source": [
    "(chapter_8)=\n",
    "\n",
    "# Chapter 8: Dynamic Programming in Arrays and Matrices\n",
    "\n",
    "Dynamic Programming (DP) is particularly useful for solving problems involving arrays and matrices. In this chapter, we'll explore two classic problems: Matrix Chain Multiplication and Maximal Square.\n",
    "\n",
    "## 8.1 Matrix Chain Multiplication\n",
    "\n",
    "### Problem Statement\n",
    "\n",
    "Given a sequence of matrices, find the most efficient way to multiply these matrices together. The problem is not to actually perform the multiplications, but merely to decide in which order to perform the multiplications.\n",
    "\n",
    "For example, suppose you have three matrices A, B, and C with dimensions 10x30, 30x5, and 5x60 respectively. There are two ways to multiply them:\n",
    "\n",
    "1. (AB)C = (10x30x5) + (10x5x60) = 1500 + 3000 = 4500 operations\n",
    "2. A(BC) = (30x5x60) + (10x30x60) = 9000 + 18000 = 27000 operations\n",
    "\n",
    "Clearly, the first way is more efficient.\n",
    "\n",
    "### Approach\n",
    "\n",
    "We can solve this problem using a 2D DP table. Let $dp[i][j]$ represent the minimum number of scalar multiplications needed to compute the matrix product from the $i$-th matrix to the $j$-th matrix.\n",
    "\n",
    "The recurrence relation is:\n",
    "\n",
    "$dp[i][j] = \\min_{k=i}^{j-1} (dp[i][k] + dp[k+1][j] + d[i-1] * d[k] * d[j])$\n",
    "\n",
    "where $d[i-1]$, $d[k]$, and $d[j]$ are the dimensions of the matrices.\n",
    "\n",
    "### Implementation"
   ]
  },
  {
   "cell_type": "code",
   "execution_count": 1,
   "id": "26fbb67d",
   "metadata": {},
   "outputs": [
    {
     "name": "stdout",
     "output_type": "stream",
     "text": [
      "Minimum number of multiplications: 4500\n"
     ]
    }
   ],
   "source": [
    "def matrix_chain_multiplication(dimensions):\n",
    "    n = len(dimensions) - 1  # number of matrices\n",
    "    dp = [[0] * n for _ in range(n)]\n",
    "    \n",
    "    # len is chain length\n",
    "    for length in range(2, n + 1):\n",
    "        for i in range(n - length + 1):\n",
    "            j = i + length - 1\n",
    "            dp[i][j] = float('inf')\n",
    "            for k in range(i, j):\n",
    "                cost = dp[i][k] + dp[k+1][j] + dimensions[i]*dimensions[k+1]*dimensions[j+1]\n",
    "                dp[i][j] = min(dp[i][j], cost)\n",
    "    \n",
    "    return dp[0][n-1]\n",
    "\n",
    "# Test the function\n",
    "dimensions = [10, 30, 5, 60]\n",
    "print(f\"Minimum number of multiplications: {matrix_chain_multiplication(dimensions)}\")"
   ]
  },
  {
   "cell_type": "markdown",
   "id": "baac8104",
   "metadata": {},
   "source": [
    "### Complexity Analysis\n",
    "\n",
    "- Time Complexity: $O(n^3)$, where $n$ is the number of matrices.\n",
    "- Space Complexity: $O(n^2)$ to store the DP table.\n",
    "\n",
    "### Visualization\n",
    "\n",
    "Here's a text-based visualization of how the DP table would be filled for the matrices with dimensions [10, 30, 5, 60]:\n",
    "\n",
    "```\n",
    "      0    1    2\n",
    "0     0  1500 4500\n",
    "1     0    0  9000\n",
    "2     0    0     0\n",
    "```\n",
    "\n",
    "## 8.2 Maximal Square\n",
    "\n",
    "### Problem Statement\n",
    "\n",
    "Given an $m \\times n$ binary matrix filled with 0's and 1's, find the largest square submatrix of 1's and return its area.\n",
    "\n",
    "For example, given the matrix:\n",
    "```\n",
    "1 0 1 0 0\n",
    "1 0 1 1 1\n",
    "1 1 1 1 1\n",
    "1 0 0 1 0\n",
    "```\n",
    "The largest square submatrix of 1's has a size of 2x2, so the function should return 4.\n",
    "\n",
    "### Approach\n",
    "\n",
    "We can solve this problem using a 2D DP table. Let $dp[i][j]$ represent the side length of the largest square submatrix whose bottom right corner is at position (i, j) in the original matrix.\n",
    "\n",
    "The recurrence relation is:\n",
    "\n",
    "$dp[i][j] = \\min(dp[i-1][j], dp[i][j-1], dp[i-1][j-1]) + 1$ if $matrix[i][j] == 1$\n",
    "\n",
    "$dp[i][j] = 0$ if $matrix[i][j] == 0$\n",
    "\n",
    "### Implementation"
   ]
  },
  {
   "cell_type": "code",
   "execution_count": 2,
   "id": "f3179ba5",
   "metadata": {},
   "outputs": [
    {
     "name": "stdout",
     "output_type": "stream",
     "text": [
      "Area of the largest square submatrix: 4\n"
     ]
    }
   ],
   "source": [
    "def maximal_square(matrix):\n",
    "    if not matrix:\n",
    "        return 0\n",
    "    \n",
    "    m, n = len(matrix), len(matrix[0])\n",
    "    dp = [[0] * (n + 1) for _ in range(m + 1)]\n",
    "    max_side = 0\n",
    "    \n",
    "    for i in range(1, m + 1):\n",
    "        for j in range(1, n + 1):\n",
    "            if matrix[i-1][j-1] == '1':\n",
    "                dp[i][j] = min(dp[i-1][j], dp[i][j-1], dp[i-1][j-1]) + 1\n",
    "                max_side = max(max_side, dp[i][j])\n",
    "    \n",
    "    return max_side * max_side\n",
    "\n",
    "# Test the function\n",
    "matrix = [\n",
    "    [\"1\",\"0\",\"1\",\"0\",\"0\"],\n",
    "    [\"1\",\"0\",\"1\",\"1\",\"1\"],\n",
    "    [\"1\",\"1\",\"1\",\"1\",\"1\"],\n",
    "    [\"1\",\"0\",\"0\",\"1\",\"0\"]\n",
    "]\n",
    "print(f\"Area of the largest square submatrix: {maximal_square(matrix)}\")"
   ]
  },
  {
   "cell_type": "markdown",
   "id": "3074b7b7",
   "metadata": {},
   "source": [
    "### Complexity Analysis\n",
    "\n",
    "- Time Complexity: $O(mn)$, where $m$ and $n$ are the dimensions of the matrix.\n",
    "- Space Complexity: $O(mn)$ to store the DP table.\n",
    "\n",
    "### Visualization\n",
    "\n",
    "Here's a text-based visualization of how the DP table would be filled for the given matrix:\n",
    "\n",
    "```\n",
    "0 0 0 0 0 0\n",
    "0 1 0 1 0 0\n",
    "0 1 0 1 1 1\n",
    "0 1 1 1 2 2\n",
    "0 1 0 0 1 0\n",
    "```\n",
    "\n",
    "The largest value in this DP table is 2, which corresponds to a 2x2 square, hence an area of 4.\n",
    "\n",
    "## Conclusion\n",
    "\n",
    "Dynamic Programming in arrays and matrices often involves 2D DP tables and can solve complex optimization problems efficiently. The key is to define the right recurrence relation and build the DP table step by step.\n",
    "\n",
    "In the Matrix Chain Multiplication problem, we saw how DP can be used to optimize the order of operations. In the Maximal Square problem, we used DP to efficiently find patterns in a 2D grid.\n",
    "\n",
    "These techniques can be applied to a wide range of problems involving sequences and grids, from image processing to optimizing computations."
   ]
  }
 ],
 "metadata": {
  "jupytext": {
   "text_representation": {
    "extension": ".md",
    "format_name": "myst"
   }
  },
  "kernelspec": {
   "display_name": "Python 3",
   "language": "python",
   "name": "python3"
  },
  "language_info": {
   "codemirror_mode": {
    "name": "ipython",
    "version": 3
   },
   "file_extension": ".py",
   "mimetype": "text/x-python",
   "name": "python",
   "nbconvert_exporter": "python",
   "pygments_lexer": "ipython3",
   "version": "3.9.2"
  },
  "source_map": [
   10,
   43,
   62,
   107,
   132
  ]
 },
 "nbformat": 4,
 "nbformat_minor": 5
}