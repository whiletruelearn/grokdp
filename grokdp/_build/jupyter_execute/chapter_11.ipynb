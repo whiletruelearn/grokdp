{
 "cells": [
  {
   "cell_type": "markdown",
   "id": "a31698e3",
   "metadata": {},
   "source": [
    "(chapter_11)=\n",
    "\n",
    "# Chapter 11: Real-world Applications of Dynamic Programming\n",
    "\n",
    "Dynamic Programming (DP) is not just a theoretical concept—it has numerous practical applications across various industries. In this chapter, we'll explore how DP is used to solve real-world problems in different domains.\n",
    "\n",
    "## 11.1 Bioinformatics: Sequence Alignment\n",
    "\n",
    "One of the most important applications of DP in bioinformatics is sequence alignment, used to compare DNA, RNA, or protein sequences.\n",
    "\n",
    "### Problem: Global Sequence Alignment\n",
    "\n",
    "Given two sequences, find the optimal alignment that maximizes similarity.\n",
    "\n",
    "### Solution: Needleman-Wunsch Algorithm"
   ]
  },
  {
   "cell_type": "code",
   "execution_count": 1,
   "id": "651594ac",
   "metadata": {},
   "outputs": [
    {
     "name": "stdout",
     "output_type": "stream",
     "text": [
      "Optimal alignment score: 11\n"
     ]
    }
   ],
   "source": [
    "def needleman_wunsch(seq1, seq2, match_score=1, mismatch_score=-1, gap_penalty=-1):\n",
    "    m, n = len(seq1), len(seq2)\n",
    "    dp = [[0] * (n + 1) for _ in range(m + 1)]\n",
    "    \n",
    "    # Initialize first row and column\n",
    "    for i in range(m + 1):\n",
    "        dp[i][0] = i * gap_penalty\n",
    "    for j in range(n + 1):\n",
    "        dp[0][j] = j * gap_penalty\n",
    "    \n",
    "    # Fill the DP table\n",
    "    for i in range(1, m + 1):\n",
    "        for j in range(1, n + 1):\n",
    "            match = dp[i-1][j-1] + (match_score if seq1[i-1] == seq2[j-1] else mismatch_score)\n",
    "            delete = dp[i-1][j] + gap_penalty\n",
    "            insert = dp[i][j-1] + gap_penalty\n",
    "            dp[i][j] = max(match, delete, insert)\n",
    "    \n",
    "    return dp[m][n]\n",
    "\n",
    "# Example usage\n",
    "seq1 = \"AGGCTATCACCTGACCTCCAGGCCGATGCCC\"\n",
    "seq2 = \"TAGCTATCACGACCGCGGTCGATTTGCCCGAC\"\n",
    "alignment_score = needleman_wunsch(seq1, seq2)\n",
    "print(f\"Optimal alignment score: {alignment_score}\")"
   ]
  },
  {
   "cell_type": "markdown",
   "id": "e9da0489",
   "metadata": {},
   "source": [
    "This algorithm is widely used in bioinformatics for comparing genetic sequences, helping researchers understand evolutionary relationships and identify similar regions in different organisms.\n",
    "\n",
    "## 11.2 Finance: Option Pricing\n",
    "\n",
    "In financial mathematics, DP is used for option pricing, particularly for American options which can be exercised before the expiration date.\n",
    "\n",
    "### Problem: American Option Pricing\n",
    "\n",
    "Determine the fair price of an American put option.\n",
    "\n",
    "### Solution: Binomial Option Pricing Model"
   ]
  },
  {
   "cell_type": "code",
   "execution_count": 2,
   "id": "0312756e",
   "metadata": {},
   "outputs": [
    {
     "name": "stdout",
     "output_type": "stream",
     "text": [
      "Price of the American put option: $5.55\n"
     ]
    }
   ],
   "source": [
    "import math\n",
    "\n",
    "def american_put_option(S, K, T, r, sigma, N):\n",
    "    dt = T / N\n",
    "    u = math.exp(sigma * math.sqrt(dt))\n",
    "    d = 1 / u\n",
    "    p = (math.exp(r * dt) - d) / (u - d)\n",
    "    \n",
    "    # Initialize asset prices at maturity\n",
    "    prices = [S * (d ** j) * (u ** (N - j)) for j in range(N + 1)]\n",
    "    \n",
    "    # Initialize option values at maturity\n",
    "    values = [max(K - S, 0) for S in prices]\n",
    "    \n",
    "    # Backward induction\n",
    "    for i in range(N - 1, -1, -1):\n",
    "        for j in range(i + 1):\n",
    "            S = S * (u ** (i - j)) * (d ** j)\n",
    "            hold_value = (p * values[j] + (1 - p) * values[j + 1]) * math.exp(-r * dt)\n",
    "            exercise_value = max(K - S, 0)\n",
    "            values[j] = max(hold_value, exercise_value)\n",
    "    \n",
    "    return values[0]\n",
    "\n",
    "# Example usage\n",
    "S = 100  # Current stock price\n",
    "K = 100  # Strike price\n",
    "T = 1    # Time to maturity (in years)\n",
    "r = 0.05 # Risk-free interest rate\n",
    "sigma = 0.2 # Volatility\n",
    "N = 100  # Number of time steps\n",
    "\n",
    "option_price = american_put_option(S, K, T, r, sigma, N)\n",
    "print(f\"Price of the American put option: ${option_price:.2f}\")"
   ]
  },
  {
   "cell_type": "markdown",
   "id": "cf111cfd",
   "metadata": {},
   "source": [
    "This model helps financial institutions and investors accurately price options, manage risk, and make informed investment decisions.\n",
    "\n",
    "## 11.3 Natural Language Processing: Speech Recognition\n",
    "\n",
    "DP plays a crucial role in speech recognition systems, particularly in the process of decoding speech into text.\n",
    "\n",
    "### Problem: Finding the Most Likely Sequence of Words\n",
    "\n",
    "Given a sequence of acoustic features, find the most likely sequence of words that produced those features.\n",
    "\n",
    "### Solution: Viterbi Algorithm"
   ]
  },
  {
   "cell_type": "code",
   "execution_count": 3,
   "id": "a4080b75",
   "metadata": {},
   "outputs": [
    {
     "name": "stdout",
     "output_type": "stream",
     "text": [
      "Most likely weather sequence: Sunny Rainy Rainy\n",
      "Probability: 0.01344\n"
     ]
    }
   ],
   "source": [
    "import numpy as np\n",
    "\n",
    "def viterbi(obs, states, start_p, trans_p, emit_p):\n",
    "    V = [{}]\n",
    "    path = {}\n",
    "    \n",
    "    # Initialize base cases (t == 0)\n",
    "    for y in states:\n",
    "        V[0][y] = start_p[y] * emit_p[y][obs[0]]\n",
    "        path[y] = [y]\n",
    "    \n",
    "    # Run Viterbi for t > 0\n",
    "    for t in range(1, len(obs)):\n",
    "        V.append({})\n",
    "        newpath = {}\n",
    "        \n",
    "        for y in states:\n",
    "            (prob, state) = max((V[t-1][y0] * trans_p[y0][y] * emit_p[y][obs[t]], y0) for y0 in states)\n",
    "            V[t][y] = prob\n",
    "            newpath[y] = path[state] + [y]\n",
    "        \n",
    "        path = newpath\n",
    "    \n",
    "    # Find the most likely sequence\n",
    "    (prob, state) = max((V[len(obs) - 1][y], y) for y in states)\n",
    "    return (prob, path[state])\n",
    "\n",
    "# Example usage (simplified)\n",
    "states = ('Rainy', 'Sunny')\n",
    "observations = ('walk', 'shop', 'clean')\n",
    "start_probability = {'Rainy': 0.6, 'Sunny': 0.4}\n",
    "transition_probability = {\n",
    "    'Rainy' : {'Rainy': 0.7, 'Sunny': 0.3},\n",
    "    'Sunny' : {'Rainy': 0.4, 'Sunny': 0.6},\n",
    "}\n",
    "emission_probability = {\n",
    "    'Rainy' : {'walk': 0.1, 'shop': 0.4, 'clean': 0.5},\n",
    "    'Sunny' : {'walk': 0.6, 'shop': 0.3, 'clean': 0.1},\n",
    "}\n",
    "\n",
    "prob, path = viterbi(observations, states, start_probability, transition_probability, emission_probability)\n",
    "print(f\"Most likely weather sequence: {' '.join(path)}\")\n",
    "print(f\"Probability: {prob}\")"
   ]
  },
  {
   "cell_type": "markdown",
   "id": "c3703ccc",
   "metadata": {},
   "source": [
    "While this example uses a simple weather model, the same principle is applied in speech recognition systems to decode acoustic signals into text, helping power virtual assistants, transcription services, and more.\n",
    "\n",
    "## 11.4 Robotics: Path Planning\n",
    "\n",
    "DP is used in robotics for path planning, helping robots navigate efficiently through complex environments.\n",
    "\n",
    "### Problem: Finding the Shortest Path in a Grid\n",
    "\n",
    "Given a grid with obstacles, find the shortest path from start to goal.\n",
    "\n",
    "### Solution: A* Algorithm (a DP-based heuristic search algorithm)"
   ]
  },
  {
   "cell_type": "code",
   "execution_count": 4,
   "id": "0963cee7",
   "metadata": {},
   "outputs": [
    {
     "name": "stdout",
     "output_type": "stream",
     "text": [
      "Shortest path: [(0, 1), (0, 2), (0, 3), (1, 3), (1, 4), (2, 4), (3, 4), (4, 4)]\n"
     ]
    }
   ],
   "source": [
    "import heapq\n",
    "\n",
    "def manhattan_distance(a, b):\n",
    "    return abs(b[0] - a[0]) + abs(b[1] - a[1])\n",
    "\n",
    "def a_star(grid, start, goal):\n",
    "    rows, cols = len(grid), len(grid[0])\n",
    "    heap = [(0, start)]\n",
    "    came_from = {}\n",
    "    g_score = {start: 0}\n",
    "    f_score = {start: manhattan_distance(start, goal)}\n",
    "    \n",
    "    while heap:\n",
    "        current = heapq.heappop(heap)[1]\n",
    "        \n",
    "        if current == goal:\n",
    "            path = []\n",
    "            while current in came_from:\n",
    "                path.append(current)\n",
    "                current = came_from[current]\n",
    "            return path[::-1]\n",
    "        \n",
    "        for dx, dy in [(0, 1), (1, 0), (0, -1), (-1, 0)]:\n",
    "            neighbor = (current[0] + dx, current[1] + dy)\n",
    "            if 0 <= neighbor[0] < rows and 0 <= neighbor[1] < cols and grid[neighbor[0]][neighbor[1]] == 0:\n",
    "                tentative_g_score = g_score[current] + 1\n",
    "                if tentative_g_score < g_score.get(neighbor, float('inf')):\n",
    "                    came_from[neighbor] = current\n",
    "                    g_score[neighbor] = tentative_g_score\n",
    "                    f_score[neighbor] = g_score[neighbor] + manhattan_distance(neighbor, goal)\n",
    "                    heapq.heappush(heap, (f_score[neighbor], neighbor))\n",
    "    \n",
    "    return None  # No path found\n",
    "\n",
    "# Example usage\n",
    "grid = [\n",
    "    [0, 0, 0, 0, 1],\n",
    "    [1, 1, 0, 0, 0],\n",
    "    [0, 0, 0, 1, 0],\n",
    "    [0, 1, 1, 1, 0],\n",
    "    [0, 0, 0, 1, 0]\n",
    "]\n",
    "start = (0, 0)\n",
    "goal = (4, 4)\n",
    "\n",
    "path = a_star(grid, start, goal)\n",
    "if path:\n",
    "    print(f\"Shortest path: {path}\")\n",
    "else:\n",
    "    print(\"No path found\")"
   ]
  },
  {
   "cell_type": "markdown",
   "id": "84917483",
   "metadata": {},
   "source": [
    "This algorithm helps robots navigate efficiently in various applications, from warehouse automation to autonomous vehicles.\n",
    "\n",
    "## Conclusion\n",
    "\n",
    "These examples demonstrate how Dynamic Programming is applied across diverse fields to solve complex real-world problems. From analyzing genetic sequences in bioinformatics to pricing financial instruments, from decoding speech to planning robot paths, DP proves to be a versatile and powerful technique.\n",
    "\n",
    "As we've seen, the core principles of DP—breaking down problems into smaller subproblems and storing intermediate results—remain consistent across these applications. However, each domain requires careful problem formulation and often combines DP with domain-specific knowledge and heuristics.\n",
    "\n",
    "In the next chapter, we'll explore common patterns and problem-solving strategies in DP, which will help you recognize and solve DP problems across various domains."
   ]
  }
 ],
 "metadata": {
  "jupytext": {
   "text_representation": {
    "extension": ".md",
    "format_name": "myst"
   }
  },
  "kernelspec": {
   "display_name": "Python 3",
   "language": "python",
   "name": "python3"
  },
  "language_info": {
   "codemirror_mode": {
    "name": "ipython",
    "version": 3
   },
   "file_extension": ".py",
   "mimetype": "text/x-python",
   "name": "python",
   "nbconvert_exporter": "python",
   "pygments_lexer": "ipython3",
   "version": "3.9.2"
  },
  "source_map": [
   10,
   28,
   54,
   68,
   103,
   117,
   161,
   175,
   226
  ]
 },
 "nbformat": 4,
 "nbformat_minor": 5
}