{
 "cells": [
  {
   "cell_type": "markdown",
   "id": "03064558",
   "metadata": {},
   "source": [
    "(chapter_1)=\n",
    "\n",
    "# Introduction to Dynamic Programming\n",
    "\n",
    "## What is Dynamic Programming?\n",
    "\n",
    "Dynamic Programming (DP) is a powerful problem-solving technique used in computer science and mathematics. It's particularly useful for solving optimization problems and certain types of coding challenges. The core idea behind dynamic programming is to break down a complex problem into simpler subproblems, solve these subproblems only once, and store their solutions for future use.\n",
    "\n",
    "The term \"dynamic programming\" was coined by Richard Bellman in the 1950s. Despite its name, it has nothing to do with dynamic programming languages or dynamic memory allocation. Instead, \"programming\" in this context refers to a tabular method of solving problems.\n",
    "\n",
    "## When to use Dynamic Programming\n",
    "\n",
    "Dynamic Programming is particularly useful when:\n",
    "\n",
    "1. The problem has overlapping subproblems\n",
    "2. The problem has an optimal substructure\n",
    "3. The problem involves finding an optimum value (maximum or minimum)\n",
    "\n",
    "Let's break these down:\n",
    "\n",
    "### 1. Overlapping Subproblems\n",
    "\n",
    "A problem has overlapping subproblems if it can be broken down into subproblems which are reused several times. \n",
    "\n",
    "For example, consider the Fibonacci sequence:"
   ]
  },
  {
   "cell_type": "code",
   "execution_count": 1,
   "id": "d5334732",
   "metadata": {},
   "outputs": [],
   "source": [
    "    def fibonacci(n):\n",
    "        if n <= 1:\n",
    "            return n\n",
    "        return fibonacci(n-1) + fibonacci(n-2)"
   ]
  },
  {
   "cell_type": "markdown",
   "id": "ff2469da",
   "metadata": {},
   "source": [
    "In this recursive implementation, `fibonacci(5)` will calculate `fibonacci(3)` twice. As `n` grows, the number of redundant calculations increases exponentially.\n",
    "\n",
    "### 2. Optimal Substructure\n",
    "\n",
    "A problem has optimal substructure if an optimal solution can be constructed from optimal solutions of its subproblems.\n",
    "\n",
    "For instance, the shortest path problem has an optimal substructure: if the shortest path from A to C goes through B, then the path from A to B and the path from B to C must also be the shortest paths between those points.\n",
    "\n",
    "### 3. Finding an Optimum Value\n",
    "\n",
    "Many DP problems involve finding a maximum or minimum value. Examples include:\n",
    "\n",
    "- Finding the longest common subsequence\n",
    "- Minimizing the number of coins to make change\n",
    "- Maximizing the value of items in a knapsack\n",
    "\n",
    "## Key Concepts: Overlapping Subproblems and Optimal Substructure\n",
    "\n",
    "Let's dive deeper into these two fundamental concepts of Dynamic Programming.\n",
    "\n",
    "### Overlapping Subproblems\n",
    "\n",
    "When a problem has overlapping subproblems, it means that the same subproblems are solved multiple times. This is where DP shines - by storing the results of these subproblems, we can avoid redundant computation.\n",
    "\n",
    "Consider this simple diagram of the Fibonacci calculation for `n=5`:\n",
    "\n",
    "                 fib(5)\n",
    "               /        \\\n",
    "          fib(4)         fib(3)\n",
    "         /      \\       /      \\\n",
    "      fib(3)   fib(2) fib(2)  fib(1)\n",
    "      /    \\\n",
    "    fib(2) fib(1)\n",
    "\n",
    "Notice how `fib(3)` and `fib(2)` appear multiple times. In DP, we would calculate these only once and reuse the results.\n",
    "\n",
    "### Optimal Substructure\n",
    "\n",
    "A problem has optimal substructure if its overall optimal solution can be constructed from the optimal solutions of its subproblems.\n",
    "\n",
    "Let's consider the shortest path problem as an example:\n",
    "\n",
    "        A --- 3 --- B --- 2 --- C\n",
    "         \\         /\n",
    "          \\       /\n",
    "           5     4\n",
    "            \\   /\n",
    "             \\ /\n",
    "              D\n",
    "\n",
    "If the shortest path from A to C is A-B-C (with a total distance of 5), then:\n",
    "- A-B must be the shortest path from A to B\n",
    "- B-C must be the shortest path from B to C\n",
    "\n",
    "This property allows us to build the solution to the larger problem (shortest path from A to C) from solutions to smaller subproblems (shortest paths A-B and B-C).\n",
    "\n",
    "In the next chapters, we'll explore how to leverage these properties to solve complex problems efficiently using Dynamic Programming techniques."
   ]
  }
 ],
 "metadata": {
  "jupytext": {
   "text_representation": {
    "extension": ".md",
    "format_name": "myst"
   }
  },
  "kernelspec": {
   "display_name": "Python 3",
   "language": "python",
   "name": "python3"
  },
  "language_info": {
   "codemirror_mode": {
    "name": "ipython",
    "version": 3
   },
   "file_extension": ".py",
   "mimetype": "text/x-python",
   "name": "python",
   "nbconvert_exporter": "python",
   "pygments_lexer": "ipython3",
   "version": "3.9.2"
  },
  "source_map": [
   10,
   38,
   43
  ]
 },
 "nbformat": 4,
 "nbformat_minor": 5
}