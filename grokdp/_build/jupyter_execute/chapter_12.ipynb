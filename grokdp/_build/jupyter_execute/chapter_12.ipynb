{
 "cells": [
  {
   "cell_type": "markdown",
   "id": "02ba24e5",
   "metadata": {},
   "source": [
    "(chapter_12)=\n",
    "\n",
    "# Chapter 12: Common Patterns and Problem-Solving Strategies\n",
    "\n",
    "Dynamic Programming (DP) problems often share common patterns and can be approached with similar strategies. In this chapter, we'll explore how to identify DP problems, common patterns in DP, and a step-by-step approach to solving them.\n",
    "\n",
    "## 12.1 Identifying DP Problems\n",
    "\n",
    "DP is typically applicable when a problem has the following characteristics:\n",
    "\n",
    "1. **Optimal Substructure**: The optimal solution to the problem can be constructed from optimal solutions of its subproblems.\n",
    "2. **Overlapping Subproblems**: The problem can be broken down into subproblems which are reused several times.\n",
    "\n",
    "Common indicators that a problem might be solvable using DP include:\n",
    "\n",
    "- The problem asks for the maximum, minimum, or optimal value\n",
    "- The problem involves making choices to arrive at a solution\n",
    "- The problem asks for the number of ways to do something\n",
    "- The problem involves sequences or series\n",
    "\n",
    "## 12.2 Common DP Patterns\n",
    "\n",
    "Here are some common patterns you'll encounter in DP problems:\n",
    "\n",
    "### 1. Linear Sequence DP\n",
    "\n",
    "Example problems: Fibonacci sequence, Climbing Stairs\n",
    "\n",
    "Pattern:"
   ]
  },
  {
   "cell_type": "code",
   "execution_count": 1,
   "id": "61d6d610",
   "metadata": {},
   "outputs": [
    {
     "ename": "NameError",
     "evalue": "name 'some_function' is not defined",
     "output_type": "error",
     "traceback": [
      "\u001b[0;31m---------------------------------------------------------------------------\u001b[0m",
      "\u001b[0;31mNameError\u001b[0m                                 Traceback (most recent call last)",
      "Input \u001b[0;32mIn [1]\u001b[0m, in \u001b[0;36m<cell line: 1>\u001b[0;34m()\u001b[0m\n\u001b[0;32m----> 1\u001b[0m dp[i] \u001b[38;5;241m=\u001b[39m \u001b[43msome_function\u001b[49m(dp[i\u001b[38;5;241m-\u001b[39m\u001b[38;5;241m1\u001b[39m], dp[i\u001b[38;5;241m-\u001b[39m\u001b[38;5;241m2\u001b[39m], \u001b[38;5;241m.\u001b[39m\u001b[38;5;241m.\u001b[39m\u001b[38;5;241m.\u001b[39m)\n",
      "\u001b[0;31mNameError\u001b[0m: name 'some_function' is not defined"
     ]
    }
   ],
   "source": [
    "dp[i] = some_function(dp[i-1], dp[i-2], ...)"
   ]
  },
  {
   "cell_type": "markdown",
   "id": "9f22e166",
   "metadata": {},
   "source": [
    "### 2. Two-Dimensional DP\n",
    "\n",
    "Example problems: Longest Common Subsequence, Edit Distance\n",
    "\n",
    "Pattern:"
   ]
  },
  {
   "cell_type": "code",
   "execution_count": null,
   "id": "36d1792b",
   "metadata": {},
   "outputs": [],
   "source": [
    "dp[i][j] = some_function(dp[i-1][j], dp[i][j-1], dp[i-1][j-1], ...)"
   ]
  },
  {
   "cell_type": "markdown",
   "id": "de98c0a0",
   "metadata": {},
   "source": [
    "### 3. Interval DP\n",
    "\n",
    "Example problems: Matrix Chain Multiplication, Optimal Binary Search Tree\n",
    "\n",
    "Pattern:"
   ]
  },
  {
   "cell_type": "code",
   "execution_count": null,
   "id": "beebbfb8",
   "metadata": {},
   "outputs": [],
   "source": [
    "for length in range(2, n+1):\n",
    "    for i in range(n-length+1):\n",
    "        j = i + length - 1\n",
    "        dp[i][j] = some_function(dp[i][k], dp[k+1][j], ...)"
   ]
  },
  {
   "cell_type": "markdown",
   "id": "0737aa38",
   "metadata": {},
   "source": [
    "### 4. Subset DP\n",
    "\n",
    "Example problems: Subset Sum, Partition Equal Subset Sum\n",
    "\n",
    "Pattern:"
   ]
  },
  {
   "cell_type": "code",
   "execution_count": null,
   "id": "65bf7c6c",
   "metadata": {},
   "outputs": [],
   "source": [
    "dp[i][s] = dp[i-1][s] or dp[i-1][s-nums[i]]"
   ]
  },
  {
   "cell_type": "markdown",
   "id": "672030c2",
   "metadata": {},
   "source": [
    "### 5. String DP\n",
    "\n",
    "Example problems: Longest Palindromic Subsequence, Regular Expression Matching\n",
    "\n",
    "Pattern:"
   ]
  },
  {
   "cell_type": "code",
   "execution_count": null,
   "id": "5a55fb54",
   "metadata": {},
   "outputs": [],
   "source": [
    "dp[i][j] = some_function(dp[i+1][j-1], s[i], s[j], ...)"
   ]
  },
  {
   "cell_type": "markdown",
   "id": "c6d54635",
   "metadata": {},
   "source": [
    "## 12.3 Steps to Approach and Solve DP Problems\n",
    "\n",
    "Follow these steps to solve DP problems:\n",
    "\n",
    "1. **Identify the problem as DP**: Look for optimal substructure and overlapping subproblems.\n",
    "\n",
    "2. **Define the state**: Determine what information you need to represent a subproblem.\n",
    "\n",
    "3. **Formulate the recurrence relation**: Express the solution to a problem in terms of solutions to smaller subproblems.\n",
    "\n",
    "4. **Identify the base cases**: Determine the simplest subproblems and their solutions.\n",
    "\n",
    "5. **Decide on the implementation approach**: Choose between top-down (memoization) or bottom-up (tabulation) approach.\n",
    "\n",
    "6. **Implement the solution**: Write the code, ensuring all subproblems are solved before they are needed.\n",
    "\n",
    "7. **Optimize if necessary**: Look for opportunities to optimize space or time complexity.\n",
    "\n",
    "Let's apply these steps to a classic DP problem: the Longest Increasing Subsequence (LIS)."
   ]
  },
  {
   "cell_type": "code",
   "execution_count": null,
   "id": "d382e571",
   "metadata": {},
   "outputs": [],
   "source": [
    "def longest_increasing_subsequence(nums):\n",
    "    if not nums:\n",
    "        return 0\n",
    "    \n",
    "    n = len(nums)\n",
    "    # Step 2: Define the state\n",
    "    # dp[i] represents the length of the LIS ending at index i\n",
    "    dp = [1] * n\n",
    "    \n",
    "    # Step 3: Formulate the recurrence relation\n",
    "    # Step 4: Identify the base cases (implicit in the initialization of dp)\n",
    "    for i in range(1, n):\n",
    "        for j in range(i):\n",
    "            if nums[i] > nums[j]:\n",
    "                dp[i] = max(dp[i], dp[j] + 1)\n",
    "    \n",
    "    # Return the maximum value in dp\n",
    "    return max(dp)\n",
    "\n",
    "# Test the function\n",
    "nums = [10, 9, 2, 5, 3, 7, 101, 18]\n",
    "print(f\"Length of Longest Increasing Subsequence: {longest_increasing_subsequence(nums)}\")"
   ]
  },
  {
   "cell_type": "markdown",
   "id": "246a2bd2",
   "metadata": {},
   "source": [
    "## 12.4 Tips for Coding Interviews\n",
    "\n",
    "1. **Start with a brute force solution**: Even if it's not efficient, it helps understand the problem and might give insights into the optimal solution.\n",
    "\n",
    "2. **Draw out examples**: Visualizing the problem can help identify patterns and the structure of the solution.\n",
    "\n",
    "3. **Think about the state**: What information do you need to solve a subproblem?\n",
    "\n",
    "4. **Consider different DP patterns**: Try to map the problem to one of the common patterns we discussed.\n",
    "\n",
    "5. **Optimize after solving**: First get a working solution, then think about optimizations.\n",
    "\n",
    "6. **Practice, practice, practice**: Familiarity with common DP problems will help you recognize patterns quickly.\n",
    "\n",
    "## Conclusion\n",
    "\n",
    "Dynamic Programming is a powerful technique, but it requires practice to master. By understanding common patterns and following a structured approach, you can become proficient at recognizing and solving DP problems.\n",
    "\n",
    "Remember, the key to DP is breaking down a complex problem into simpler subproblems and storing the results for reuse. With the strategies and patterns we've discussed in this chapter, you're well-equipped to tackle a wide range of DP problems in coding interviews and real-world applications.\n",
    "\n",
    "In the next chapter, we'll put these strategies into practice by solving a collection of DP problems from actual coding interviews."
   ]
  }
 ],
 "metadata": {
  "jupytext": {
   "text_representation": {
    "extension": ".md",
    "format_name": "myst"
   }
  },
  "kernelspec": {
   "display_name": "Python 3",
   "language": "python",
   "name": "python3"
  },
  "language_info": {
   "codemirror_mode": {
    "name": "ipython",
    "version": 3
   },
   "file_extension": ".py",
   "mimetype": "text/x-python",
   "name": "python",
   "nbconvert_exporter": "python",
   "pygments_lexer": "ipython3",
   "version": "3.9.2"
  },
  "source_map": [
   10,
   41,
   43,
   50,
   52,
   59,
   64,
   71,
   73,
   80,
   82,
   104,
   127
  ]
 },
 "nbformat": 4,
 "nbformat_minor": 5
}