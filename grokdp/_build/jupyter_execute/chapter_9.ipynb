{
 "cells": [
  {
   "cell_type": "markdown",
   "id": "9a9a58db",
   "metadata": {},
   "source": [
    "(chapter_9)=\n",
    "\n",
    "# Chapter 9: Dynamic Programming with Graphs\n",
    "\n",
    "Dynamic Programming (DP) can be effectively applied to various graph problems. In this chapter, we'll explore two classic problems: the All-Pairs Shortest Path problem using the Floyd-Warshall algorithm and the Traveling Salesman Problem.\n",
    "\n",
    "## 9.1 All-Pairs Shortest Path (Floyd-Warshall Algorithm)\n",
    "\n",
    "### Problem Statement\n",
    "\n",
    "Given a weighted graph, find the shortest path between every pair of vertices. The graph may contain negative edge weights, but no negative-weight cycles.\n",
    "\n",
    "### Approach\n",
    "\n",
    "The Floyd-Warshall algorithm uses a 3D DP approach to solve this problem. Let $dp[k][i][j]$ represent the shortest path from vertex $i$ to vertex $j$ using vertices only from the set $\\{0, 1, ..., k\\}$ as intermediate vertices.\n",
    "\n",
    "The recurrence relation is:\n",
    "\n",
    "$dp[k][i][j] = \\min(dp[k-1][i][j], dp[k-1][i][k] + dp[k-1][k][j])$\n",
    "\n",
    "This can be optimized to use only a 2D array by updating in-place.\n",
    "\n",
    "### Implementation"
   ]
  },
  {
   "cell_type": "code",
   "execution_count": 1,
   "id": "5d132316",
   "metadata": {},
   "outputs": [
    {
     "name": "stdout",
     "output_type": "stream",
     "text": [
      "All-Pairs Shortest Paths:\n",
      "[0, 5, 8, 9]\n",
      "['INF', 0, 3, 4]\n",
      "['INF', 'INF', 0, 1]\n",
      "['INF', 'INF', 'INF', 0]\n"
     ]
    }
   ],
   "source": [
    "def floyd_warshall(graph):\n",
    "    n = len(graph)\n",
    "    dp = [row[:] for row in graph]  # Create a copy of the graph\n",
    "    \n",
    "    for k in range(n):\n",
    "        for i in range(n):\n",
    "            for j in range(n):\n",
    "                dp[i][j] = min(dp[i][j], dp[i][k] + dp[k][j])\n",
    "    \n",
    "    return dp\n",
    "\n",
    "# Test the function\n",
    "INF = float('inf')\n",
    "graph = [\n",
    "    [0, 5, INF, 10],\n",
    "    [INF, 0, 3, INF],\n",
    "    [INF, INF, 0, 1],\n",
    "    [INF, INF, INF, 0]\n",
    "]\n",
    "\n",
    "result = floyd_warshall(graph)\n",
    "print(\"All-Pairs Shortest Paths:\")\n",
    "for row in result:\n",
    "    print([x if x != INF else \"INF\" for x in row])"
   ]
  },
  {
   "cell_type": "markdown",
   "id": "e65b23af",
   "metadata": {},
   "source": [
    "### Complexity Analysis\n",
    "\n",
    "- Time Complexity: $O(n^3)$, where $n$ is the number of vertices.\n",
    "- Space Complexity: $O(n^2)$ to store the DP table.\n",
    "\n",
    "### Visualization\n",
    "\n",
    "Here's a text-based visualization of how the DP table would be filled for the given graph:\n",
    "\n",
    "```\n",
    "Initial:        After k=0:      After k=1:      Final (k=3):\n",
    "0    5    INF  10     0    5    INF  10     0    5    8    10     0    5    8    9\n",
    "INF  0    3    INF    INF  0    3    INF    INF  0    3    INF    INF  0    3    4\n",
    "INF  INF  0    1      INF  INF  0    1      INF  INF  0    1      INF  INF  0    1\n",
    "INF  INF  INF  0      INF  INF  INF  0      INF  INF  INF  0      INF  INF  INF  0\n",
    "```\n",
    "\n",
    "## 9.2 Traveling Salesman Problem\n",
    "\n",
    "### Problem Statement\n",
    "\n",
    "Given a list of cities and the distances between each pair of cities, what is the shortest possible route that visits each city exactly once and returns to the origin city?\n",
    "\n",
    "### Approach\n",
    "\n",
    "We can solve this problem using a DP approach with bitmasks. Let $dp[mask][i]$ represent the shortest path that visits all cities in the bitmask and ends at city $i$.\n",
    "\n",
    "The recurrence relation is:\n",
    "\n",
    "$dp[mask][i] = \\min_{j \\neq i, j \\in mask} (dp[mask \\setminus \\{i\\}][j] + dist[j][i])$\n",
    "\n",
    "### Implementation"
   ]
  },
  {
   "cell_type": "code",
   "execution_count": 2,
   "id": "58ea8461",
   "metadata": {},
   "outputs": [
    {
     "ename": "ValueError",
     "evalue": "min() arg is an empty sequence",
     "output_type": "error",
     "traceback": [
      "\u001b[0;31m---------------------------------------------------------------------------\u001b[0m",
      "\u001b[0;31mValueError\u001b[0m                                Traceback (most recent call last)",
      "Input \u001b[0;32mIn [2]\u001b[0m, in \u001b[0;36m<cell line: 44>\u001b[0;34m()\u001b[0m\n\u001b[1;32m     36\u001b[0m \u001b[38;5;66;03m# Test the function\u001b[39;00m\n\u001b[1;32m     37\u001b[0m dist \u001b[38;5;241m=\u001b[39m [\n\u001b[1;32m     38\u001b[0m     [\u001b[38;5;241m0\u001b[39m, \u001b[38;5;241m10\u001b[39m, \u001b[38;5;241m15\u001b[39m, \u001b[38;5;241m20\u001b[39m],\n\u001b[1;32m     39\u001b[0m     [\u001b[38;5;241m10\u001b[39m, \u001b[38;5;241m0\u001b[39m, \u001b[38;5;241m35\u001b[39m, \u001b[38;5;241m25\u001b[39m],\n\u001b[1;32m     40\u001b[0m     [\u001b[38;5;241m15\u001b[39m, \u001b[38;5;241m35\u001b[39m, \u001b[38;5;241m0\u001b[39m, \u001b[38;5;241m30\u001b[39m],\n\u001b[1;32m     41\u001b[0m     [\u001b[38;5;241m20\u001b[39m, \u001b[38;5;241m25\u001b[39m, \u001b[38;5;241m30\u001b[39m, \u001b[38;5;241m0\u001b[39m]\n\u001b[1;32m     42\u001b[0m ]\n\u001b[0;32m---> 44\u001b[0m \u001b[38;5;28mprint\u001b[39m(\u001b[38;5;124mf\u001b[39m\u001b[38;5;124m\"\u001b[39m\u001b[38;5;124mShortest tour length: \u001b[39m\u001b[38;5;132;01m{\u001b[39;00mtraveling_salesman(dist)\u001b[38;5;132;01m}\u001b[39;00m\u001b[38;5;124m\"\u001b[39m)\n",
      "Input \u001b[0;32mIn [2]\u001b[0m, in \u001b[0;36mtraveling_salesman\u001b[0;34m(dist)\u001b[0m\n\u001b[1;32m     20\u001b[0m     \u001b[38;5;28;01mfor\u001b[39;00m last \u001b[38;5;129;01min\u001b[39;00m subset:\n\u001b[1;32m     21\u001b[0m         prev \u001b[38;5;241m=\u001b[39m mask \u001b[38;5;241m&\u001b[39m \u001b[38;5;241m~\u001b[39m(\u001b[38;5;241m1\u001b[39m \u001b[38;5;241m<<\u001b[39m last)\n\u001b[0;32m---> 22\u001b[0m         dp[(mask, last)] \u001b[38;5;241m=\u001b[39m \u001b[38;5;28;43mmin\u001b[39;49m\u001b[43m(\u001b[49m\n\u001b[1;32m     23\u001b[0m \u001b[43m            \u001b[49m\u001b[43m(\u001b[49m\u001b[43mdp\u001b[49m\u001b[43m[\u001b[49m\u001b[43m(\u001b[49m\u001b[43mprev\u001b[49m\u001b[43m,\u001b[49m\u001b[43m \u001b[49m\u001b[43mj\u001b[49m\u001b[43m)\u001b[49m\u001b[43m]\u001b[49m\u001b[43m[\u001b[49m\u001b[38;5;241;43m0\u001b[39;49m\u001b[43m]\u001b[49m\u001b[43m \u001b[49m\u001b[38;5;241;43m+\u001b[39;49m\u001b[43m \u001b[49m\u001b[43mdist\u001b[49m\u001b[43m[\u001b[49m\u001b[43mj\u001b[49m\u001b[43m]\u001b[49m\u001b[43m[\u001b[49m\u001b[43mlast\u001b[49m\u001b[43m]\u001b[49m\u001b[43m,\u001b[49m\u001b[43m \u001b[49m\u001b[43mj\u001b[49m\u001b[43m)\u001b[49m\n\u001b[1;32m     24\u001b[0m \u001b[43m            \u001b[49m\u001b[38;5;28;43;01mfor\u001b[39;49;00m\u001b[43m \u001b[49m\u001b[43mj\u001b[49m\u001b[43m \u001b[49m\u001b[38;5;129;43;01min\u001b[39;49;00m\u001b[43m \u001b[49m\u001b[43msubset\u001b[49m\u001b[43m \u001b[49m\u001b[38;5;28;43;01mif\u001b[39;49;00m\u001b[43m \u001b[49m\u001b[43mj\u001b[49m\u001b[43m \u001b[49m\u001b[38;5;241;43m!=\u001b[39;49m\u001b[43m \u001b[49m\u001b[43mlast\u001b[49m\n\u001b[1;32m     25\u001b[0m \u001b[43m        \u001b[49m\u001b[43m)\u001b[49m\n\u001b[1;32m     27\u001b[0m \u001b[38;5;66;03m# Find optimal tour\u001b[39;00m\n\u001b[1;32m     28\u001b[0m mask \u001b[38;5;241m=\u001b[39m (\u001b[38;5;241m1\u001b[39m \u001b[38;5;241m<<\u001b[39m n) \u001b[38;5;241m-\u001b[39m \u001b[38;5;241m1\u001b[39m\n",
      "\u001b[0;31mValueError\u001b[0m: min() arg is an empty sequence"
     ]
    }
   ],
   "source": [
    "from itertools import combinations\n",
    "\n",
    "def traveling_salesman(dist):\n",
    "    n = len(dist)\n",
    "    all_sets = []\n",
    "    for r in range(1, n):\n",
    "        all_sets.extend(combinations(range(1, n), r))\n",
    "    \n",
    "    # Initialize DP table\n",
    "    dp = {}\n",
    "    for i in range(1, n):\n",
    "        dp[(1 << i, i)] = (dist[0][i], 0)\n",
    "    \n",
    "    # Iterate over all subsets of cities\n",
    "    for subset in all_sets:\n",
    "        mask = 0\n",
    "        for bit in subset:\n",
    "            mask |= 1 << bit\n",
    "        \n",
    "        for last in subset:\n",
    "            prev = mask & ~(1 << last)\n",
    "            dp[(mask, last)] = min(\n",
    "                (dp[(prev, j)][0] + dist[j][last], j)\n",
    "                for j in subset if j != last\n",
    "            )\n",
    "    \n",
    "    # Find optimal tour\n",
    "    mask = (1 << n) - 1\n",
    "    optimal_tour = min(\n",
    "        (dp[(mask, i)][0] + dist[i][0], i)\n",
    "        for i in range(1, n)\n",
    "    )\n",
    "    \n",
    "    return optimal_tour[0]\n",
    "\n",
    "# Test the function\n",
    "dist = [\n",
    "    [0, 10, 15, 20],\n",
    "    [10, 0, 35, 25],\n",
    "    [15, 35, 0, 30],\n",
    "    [20, 25, 30, 0]\n",
    "]\n",
    "\n",
    "print(f\"Shortest tour length: {traveling_salesman(dist)}\")"
   ]
  },
  {
   "cell_type": "markdown",
   "id": "8f1cec39",
   "metadata": {},
   "source": [
    "### Complexity Analysis\n",
    "\n",
    "- Time Complexity: $O(n^2 2^n)$, where $n$ is the number of cities.\n",
    "- Space Complexity: $O(n 2^n)$ to store the DP table.\n",
    "\n",
    "### Visualization\n",
    "\n",
    "For the Traveling Salesman Problem, visualizing the DP table is challenging due to its high dimensionality. Instead, let's visualize a simple example of how the optimal tour is constructed:\n",
    "\n",
    "```\n",
    "Cities: A, B, C, D\n",
    "\n",
    "Step 1: A → B (10)\n",
    "Step 2: B → D (25)\n",
    "Step 3: D → C (30)\n",
    "Step 4: C → A (15)\n",
    "\n",
    "Total Distance: 10 + 25 + 30 + 15 = 80\n",
    "```\n",
    "\n",
    "## Conclusion\n",
    "\n",
    "Dynamic Programming in graphs often involves innovative ways to represent states and transitions. The Floyd-Warshall algorithm demonstrates how DP can efficiently solve the all-pairs shortest path problem in $O(n^3)$ time, which is remarkable considering the problem's complexity.\n",
    "\n",
    "The Traveling Salesman Problem, while NP-hard, becomes solvable for small to medium-sized inputs using DP with bitmasks. This approach showcases how DP can be combined with other techniques (in this case, bit manipulation) to solve complex optimization problems.\n",
    "\n",
    "These techniques form the foundation for solving many real-world problems in logistics, network design, and operations research. In the next chapter, we'll explore optimization techniques in Dynamic Programming to make our solutions even more efficient."
   ]
  }
 ],
 "metadata": {
  "jupytext": {
   "text_representation": {
    "extension": ".md",
    "format_name": "myst"
   }
  },
  "kernelspec": {
   "display_name": "Python 3",
   "language": "python",
   "name": "python3"
  },
  "language_info": {
   "codemirror_mode": {
    "name": "ipython",
    "version": 3
   },
   "file_extension": ".py",
   "mimetype": "text/x-python",
   "name": "python",
   "nbconvert_exporter": "python",
   "pygments_lexer": "ipython3",
   "version": "3.9.2"
  },
  "source_map": [
   10,
   36,
   61,
   96,
   141
  ]
 },
 "nbformat": 4,
 "nbformat_minor": 5
}